{
  "nbformat": 4,
  "nbformat_minor": 0,
  "metadata": {
    "colab": {
      "provenance": [],
      "toc_visible": true,
      "authorship_tag": "ABX9TyOMNg727/mSI04FWbnOVlMp",
      "include_colab_link": true
    },
    "kernelspec": {
      "name": "python3",
      "display_name": "Python 3"
    },
    "language_info": {
      "name": "python"
    }
  },
  "cells": [
    {
      "cell_type": "markdown",
      "metadata": {
        "id": "view-in-github",
        "colab_type": "text"
      },
      "source": [
        "<a href=\"https://colab.research.google.com/github/mary270/Pandas-Data-Science-Tasks/blob/master/pandas_csv_to_mnist_numpy.ipynb\" target=\"_parent\"><img src=\"https://colab.research.google.com/assets/colab-badge.svg\" alt=\"Open In Colab\"/></a>"
      ]
    },
    {
      "cell_type": "markdown",
      "source": [
        "Pandas Task1 :\n",
        "Part 1 :save dfs into csvs or any related format\n",
        "\n"
      ],
      "metadata": {
        "id": "6lgHP5rIBPNJ"
      }
    },
    {
      "cell_type": "code",
      "execution_count": 22,
      "metadata": {
        "id": "t5jmCx6p644t"
      },
      "outputs": [],
      "source": [
        "import keras\n",
        "import pandas as pd\n",
        "import tensorflow.keras as tk\n",
        "dataset = keras.datasets.mnist.load_data()\n",
        "\n",
        "\n",
        "train_df = pd.DataFrame(list(zip(dataset[0][0], dataset[0][1])), columns =['image', 'label'])\n",
        "\n",
        "test_df = pd.DataFrame(list(zip(dataset[1][0], dataset[1][1])), columns =['image', 'label'])"
      ]
    },
    {
      "cell_type": "code",
      "source": [
        "tf_train =train_df.to_csv('mnist_data_train.csv' , index = False)\n",
        "read = pd.read_csv('mnist_data_train.csv')\n"
      ],
      "metadata": {
        "id": "t5UF5cHx7s4P"
      },
      "execution_count": 25,
      "outputs": []
    },
    {
      "cell_type": "code",
      "source": [
        "read.tail(10)"
      ],
      "metadata": {
        "colab": {
          "base_uri": "https://localhost:8080/",
          "height": 363
        },
        "id": "X2WtcoTA-iAY",
        "outputId": "01570a0d-fc16-4295-dd06-eb05138af6a6"
      },
      "execution_count": 26,
      "outputs": [
        {
          "output_type": "execute_result",
          "data": {
            "text/plain": [
              "                                                   image  label\n",
              "59990  [[  0   0   0   0   0   0   0   0   0   0   0 ...      9\n",
              "59991  [[  0   0   0   0   0   0   0   0   0   0   0 ...      2\n",
              "59992  [[  0   0   0   0   0   0   0   0   0   0   0 ...      9\n",
              "59993  [[  0   0   0   0   0   0   0   0   0   0   0 ...      5\n",
              "59994  [[  0   0   0   0   0   0   0   0   0   0   0 ...      1\n",
              "59995  [[  0   0   0   0   0   0   0   0   0   0   0 ...      8\n",
              "59996  [[  0   0   0   0   0   0   0   0   0   0   0 ...      3\n",
              "59997  [[  0   0   0   0   0   0   0   0   0   0   0 ...      5\n",
              "59998  [[  0   0   0   0   0   0   0   0   0   0   0 ...      6\n",
              "59999  [[  0   0   0   0   0   0   0   0   0   0   0 ...      8"
            ],
            "text/html": [
              "\n",
              "  <div id=\"df-32a07579-87a2-4c1b-b79b-436f9d94328b\">\n",
              "    <div class=\"colab-df-container\">\n",
              "      <div>\n",
              "<style scoped>\n",
              "    .dataframe tbody tr th:only-of-type {\n",
              "        vertical-align: middle;\n",
              "    }\n",
              "\n",
              "    .dataframe tbody tr th {\n",
              "        vertical-align: top;\n",
              "    }\n",
              "\n",
              "    .dataframe thead th {\n",
              "        text-align: right;\n",
              "    }\n",
              "</style>\n",
              "<table border=\"1\" class=\"dataframe\">\n",
              "  <thead>\n",
              "    <tr style=\"text-align: right;\">\n",
              "      <th></th>\n",
              "      <th>image</th>\n",
              "      <th>label</th>\n",
              "    </tr>\n",
              "  </thead>\n",
              "  <tbody>\n",
              "    <tr>\n",
              "      <th>59990</th>\n",
              "      <td>[[  0   0   0   0   0   0   0   0   0   0   0 ...</td>\n",
              "      <td>9</td>\n",
              "    </tr>\n",
              "    <tr>\n",
              "      <th>59991</th>\n",
              "      <td>[[  0   0   0   0   0   0   0   0   0   0   0 ...</td>\n",
              "      <td>2</td>\n",
              "    </tr>\n",
              "    <tr>\n",
              "      <th>59992</th>\n",
              "      <td>[[  0   0   0   0   0   0   0   0   0   0   0 ...</td>\n",
              "      <td>9</td>\n",
              "    </tr>\n",
              "    <tr>\n",
              "      <th>59993</th>\n",
              "      <td>[[  0   0   0   0   0   0   0   0   0   0   0 ...</td>\n",
              "      <td>5</td>\n",
              "    </tr>\n",
              "    <tr>\n",
              "      <th>59994</th>\n",
              "      <td>[[  0   0   0   0   0   0   0   0   0   0   0 ...</td>\n",
              "      <td>1</td>\n",
              "    </tr>\n",
              "    <tr>\n",
              "      <th>59995</th>\n",
              "      <td>[[  0   0   0   0   0   0   0   0   0   0   0 ...</td>\n",
              "      <td>8</td>\n",
              "    </tr>\n",
              "    <tr>\n",
              "      <th>59996</th>\n",
              "      <td>[[  0   0   0   0   0   0   0   0   0   0   0 ...</td>\n",
              "      <td>3</td>\n",
              "    </tr>\n",
              "    <tr>\n",
              "      <th>59997</th>\n",
              "      <td>[[  0   0   0   0   0   0   0   0   0   0   0 ...</td>\n",
              "      <td>5</td>\n",
              "    </tr>\n",
              "    <tr>\n",
              "      <th>59998</th>\n",
              "      <td>[[  0   0   0   0   0   0   0   0   0   0   0 ...</td>\n",
              "      <td>6</td>\n",
              "    </tr>\n",
              "    <tr>\n",
              "      <th>59999</th>\n",
              "      <td>[[  0   0   0   0   0   0   0   0   0   0   0 ...</td>\n",
              "      <td>8</td>\n",
              "    </tr>\n",
              "  </tbody>\n",
              "</table>\n",
              "</div>\n",
              "      <button class=\"colab-df-convert\" onclick=\"convertToInteractive('df-32a07579-87a2-4c1b-b79b-436f9d94328b')\"\n",
              "              title=\"Convert this dataframe to an interactive table.\"\n",
              "              style=\"display:none;\">\n",
              "        \n",
              "  <svg xmlns=\"http://www.w3.org/2000/svg\" height=\"24px\"viewBox=\"0 0 24 24\"\n",
              "       width=\"24px\">\n",
              "    <path d=\"M0 0h24v24H0V0z\" fill=\"none\"/>\n",
              "    <path d=\"M18.56 5.44l.94 2.06.94-2.06 2.06-.94-2.06-.94-.94-2.06-.94 2.06-2.06.94zm-11 1L8.5 8.5l.94-2.06 2.06-.94-2.06-.94L8.5 2.5l-.94 2.06-2.06.94zm10 10l.94 2.06.94-2.06 2.06-.94-2.06-.94-.94-2.06-.94 2.06-2.06.94z\"/><path d=\"M17.41 7.96l-1.37-1.37c-.4-.4-.92-.59-1.43-.59-.52 0-1.04.2-1.43.59L10.3 9.45l-7.72 7.72c-.78.78-.78 2.05 0 2.83L4 21.41c.39.39.9.59 1.41.59.51 0 1.02-.2 1.41-.59l7.78-7.78 2.81-2.81c.8-.78.8-2.07 0-2.86zM5.41 20L4 18.59l7.72-7.72 1.47 1.35L5.41 20z\"/>\n",
              "  </svg>\n",
              "      </button>\n",
              "      \n",
              "  <style>\n",
              "    .colab-df-container {\n",
              "      display:flex;\n",
              "      flex-wrap:wrap;\n",
              "      gap: 12px;\n",
              "    }\n",
              "\n",
              "    .colab-df-convert {\n",
              "      background-color: #E8F0FE;\n",
              "      border: none;\n",
              "      border-radius: 50%;\n",
              "      cursor: pointer;\n",
              "      display: none;\n",
              "      fill: #1967D2;\n",
              "      height: 32px;\n",
              "      padding: 0 0 0 0;\n",
              "      width: 32px;\n",
              "    }\n",
              "\n",
              "    .colab-df-convert:hover {\n",
              "      background-color: #E2EBFA;\n",
              "      box-shadow: 0px 1px 2px rgba(60, 64, 67, 0.3), 0px 1px 3px 1px rgba(60, 64, 67, 0.15);\n",
              "      fill: #174EA6;\n",
              "    }\n",
              "\n",
              "    [theme=dark] .colab-df-convert {\n",
              "      background-color: #3B4455;\n",
              "      fill: #D2E3FC;\n",
              "    }\n",
              "\n",
              "    [theme=dark] .colab-df-convert:hover {\n",
              "      background-color: #434B5C;\n",
              "      box-shadow: 0px 1px 3px 1px rgba(0, 0, 0, 0.15);\n",
              "      filter: drop-shadow(0px 1px 2px rgba(0, 0, 0, 0.3));\n",
              "      fill: #FFFFFF;\n",
              "    }\n",
              "  </style>\n",
              "\n",
              "      <script>\n",
              "        const buttonEl =\n",
              "          document.querySelector('#df-32a07579-87a2-4c1b-b79b-436f9d94328b button.colab-df-convert');\n",
              "        buttonEl.style.display =\n",
              "          google.colab.kernel.accessAllowed ? 'block' : 'none';\n",
              "\n",
              "        async function convertToInteractive(key) {\n",
              "          const element = document.querySelector('#df-32a07579-87a2-4c1b-b79b-436f9d94328b');\n",
              "          const dataTable =\n",
              "            await google.colab.kernel.invokeFunction('convertToInteractive',\n",
              "                                                     [key], {});\n",
              "          if (!dataTable) return;\n",
              "\n",
              "          const docLinkHtml = 'Like what you see? Visit the ' +\n",
              "            '<a target=\"_blank\" href=https://colab.research.google.com/notebooks/data_table.ipynb>data table notebook</a>'\n",
              "            + ' to learn more about interactive tables.';\n",
              "          element.innerHTML = '';\n",
              "          dataTable['output_type'] = 'display_data';\n",
              "          await google.colab.output.renderOutput(dataTable, element);\n",
              "          const docLink = document.createElement('div');\n",
              "          docLink.innerHTML = docLinkHtml;\n",
              "          element.appendChild(docLink);\n",
              "        }\n",
              "      </script>\n",
              "    </div>\n",
              "  </div>\n",
              "  "
            ]
          },
          "metadata": {},
          "execution_count": 26
        }
      ]
    },
    {
      "cell_type": "code",
      "source": [
        "tf_test =test_df.to_csv('mnist_data_test.csv' , index = False)\n",
        "read2 = pd.read_csv('mnist_data_test.csv')"
      ],
      "metadata": {
        "id": "M_ZIjoaQ9a98"
      },
      "execution_count": 27,
      "outputs": []
    },
    {
      "cell_type": "code",
      "source": [
        "read2.tail(5)"
      ],
      "metadata": {
        "colab": {
          "base_uri": "https://localhost:8080/",
          "height": 206
        },
        "id": "-pJKbfHFCCGC",
        "outputId": "486c296e-79f1-4d68-d5cd-4ee9022ce9e0"
      },
      "execution_count": 28,
      "outputs": [
        {
          "output_type": "execute_result",
          "data": {
            "text/plain": [
              "                                                  image  label\n",
              "9995  [[  0   0   0   0   0   0   0   0   0   0   0 ...      2\n",
              "9996  [[  0   0   0   0   0   0   0   0   0   0   0 ...      3\n",
              "9997  [[  0   0   0   0   0   0   0   0   0   0   0 ...      4\n",
              "9998  [[  0   0   0   0   0   0   0   0   0   0   0 ...      5\n",
              "9999  [[  0   0   0   0   0   0   0   0   0   0   0 ...      6"
            ],
            "text/html": [
              "\n",
              "  <div id=\"df-2cf29fc9-7b6f-4c65-821c-17fbce51b8cb\">\n",
              "    <div class=\"colab-df-container\">\n",
              "      <div>\n",
              "<style scoped>\n",
              "    .dataframe tbody tr th:only-of-type {\n",
              "        vertical-align: middle;\n",
              "    }\n",
              "\n",
              "    .dataframe tbody tr th {\n",
              "        vertical-align: top;\n",
              "    }\n",
              "\n",
              "    .dataframe thead th {\n",
              "        text-align: right;\n",
              "    }\n",
              "</style>\n",
              "<table border=\"1\" class=\"dataframe\">\n",
              "  <thead>\n",
              "    <tr style=\"text-align: right;\">\n",
              "      <th></th>\n",
              "      <th>image</th>\n",
              "      <th>label</th>\n",
              "    </tr>\n",
              "  </thead>\n",
              "  <tbody>\n",
              "    <tr>\n",
              "      <th>9995</th>\n",
              "      <td>[[  0   0   0   0   0   0   0   0   0   0   0 ...</td>\n",
              "      <td>2</td>\n",
              "    </tr>\n",
              "    <tr>\n",
              "      <th>9996</th>\n",
              "      <td>[[  0   0   0   0   0   0   0   0   0   0   0 ...</td>\n",
              "      <td>3</td>\n",
              "    </tr>\n",
              "    <tr>\n",
              "      <th>9997</th>\n",
              "      <td>[[  0   0   0   0   0   0   0   0   0   0   0 ...</td>\n",
              "      <td>4</td>\n",
              "    </tr>\n",
              "    <tr>\n",
              "      <th>9998</th>\n",
              "      <td>[[  0   0   0   0   0   0   0   0   0   0   0 ...</td>\n",
              "      <td>5</td>\n",
              "    </tr>\n",
              "    <tr>\n",
              "      <th>9999</th>\n",
              "      <td>[[  0   0   0   0   0   0   0   0   0   0   0 ...</td>\n",
              "      <td>6</td>\n",
              "    </tr>\n",
              "  </tbody>\n",
              "</table>\n",
              "</div>\n",
              "      <button class=\"colab-df-convert\" onclick=\"convertToInteractive('df-2cf29fc9-7b6f-4c65-821c-17fbce51b8cb')\"\n",
              "              title=\"Convert this dataframe to an interactive table.\"\n",
              "              style=\"display:none;\">\n",
              "        \n",
              "  <svg xmlns=\"http://www.w3.org/2000/svg\" height=\"24px\"viewBox=\"0 0 24 24\"\n",
              "       width=\"24px\">\n",
              "    <path d=\"M0 0h24v24H0V0z\" fill=\"none\"/>\n",
              "    <path d=\"M18.56 5.44l.94 2.06.94-2.06 2.06-.94-2.06-.94-.94-2.06-.94 2.06-2.06.94zm-11 1L8.5 8.5l.94-2.06 2.06-.94-2.06-.94L8.5 2.5l-.94 2.06-2.06.94zm10 10l.94 2.06.94-2.06 2.06-.94-2.06-.94-.94-2.06-.94 2.06-2.06.94z\"/><path d=\"M17.41 7.96l-1.37-1.37c-.4-.4-.92-.59-1.43-.59-.52 0-1.04.2-1.43.59L10.3 9.45l-7.72 7.72c-.78.78-.78 2.05 0 2.83L4 21.41c.39.39.9.59 1.41.59.51 0 1.02-.2 1.41-.59l7.78-7.78 2.81-2.81c.8-.78.8-2.07 0-2.86zM5.41 20L4 18.59l7.72-7.72 1.47 1.35L5.41 20z\"/>\n",
              "  </svg>\n",
              "      </button>\n",
              "      \n",
              "  <style>\n",
              "    .colab-df-container {\n",
              "      display:flex;\n",
              "      flex-wrap:wrap;\n",
              "      gap: 12px;\n",
              "    }\n",
              "\n",
              "    .colab-df-convert {\n",
              "      background-color: #E8F0FE;\n",
              "      border: none;\n",
              "      border-radius: 50%;\n",
              "      cursor: pointer;\n",
              "      display: none;\n",
              "      fill: #1967D2;\n",
              "      height: 32px;\n",
              "      padding: 0 0 0 0;\n",
              "      width: 32px;\n",
              "    }\n",
              "\n",
              "    .colab-df-convert:hover {\n",
              "      background-color: #E2EBFA;\n",
              "      box-shadow: 0px 1px 2px rgba(60, 64, 67, 0.3), 0px 1px 3px 1px rgba(60, 64, 67, 0.15);\n",
              "      fill: #174EA6;\n",
              "    }\n",
              "\n",
              "    [theme=dark] .colab-df-convert {\n",
              "      background-color: #3B4455;\n",
              "      fill: #D2E3FC;\n",
              "    }\n",
              "\n",
              "    [theme=dark] .colab-df-convert:hover {\n",
              "      background-color: #434B5C;\n",
              "      box-shadow: 0px 1px 3px 1px rgba(0, 0, 0, 0.15);\n",
              "      filter: drop-shadow(0px 1px 2px rgba(0, 0, 0, 0.3));\n",
              "      fill: #FFFFFF;\n",
              "    }\n",
              "  </style>\n",
              "\n",
              "      <script>\n",
              "        const buttonEl =\n",
              "          document.querySelector('#df-2cf29fc9-7b6f-4c65-821c-17fbce51b8cb button.colab-df-convert');\n",
              "        buttonEl.style.display =\n",
              "          google.colab.kernel.accessAllowed ? 'block' : 'none';\n",
              "\n",
              "        async function convertToInteractive(key) {\n",
              "          const element = document.querySelector('#df-2cf29fc9-7b6f-4c65-821c-17fbce51b8cb');\n",
              "          const dataTable =\n",
              "            await google.colab.kernel.invokeFunction('convertToInteractive',\n",
              "                                                     [key], {});\n",
              "          if (!dataTable) return;\n",
              "\n",
              "          const docLinkHtml = 'Like what you see? Visit the ' +\n",
              "            '<a target=\"_blank\" href=https://colab.research.google.com/notebooks/data_table.ipynb>data table notebook</a>'\n",
              "            + ' to learn more about interactive tables.';\n",
              "          element.innerHTML = '';\n",
              "          dataTable['output_type'] = 'display_data';\n",
              "          await google.colab.output.renderOutput(dataTable, element);\n",
              "          const docLink = document.createElement('div');\n",
              "          docLink.innerHTML = docLinkHtml;\n",
              "          element.appendChild(docLink);\n",
              "        }\n",
              "      </script>\n",
              "    </div>\n",
              "  </div>\n",
              "  "
            ]
          },
          "metadata": {},
          "execution_count": 28
        }
      ]
    },
    {
      "cell_type": "markdown",
      "source": [
        "TASK1 \n",
        "Part 2 : load dataset from csvs and covert into orignal format ((np.array, np.array), (np.array, np.array))"
      ],
      "metadata": {
        "id": "wPPHDfAQEgP5"
      }
    },
    {
      "cell_type": "code",
      "source": [
        "import numpy as np\n",
        "import csv\n",
        "csv_to_numpy_train = '/content/mnist_data_train.csv'\n",
        "with open(csv_to_numpy_train) as f:\n",
        "    reader = csv.reader(f)\n",
        "    lst = list(reader)\n",
        "    train_numpy_array = np.array(lst)\n",
        "print(train_numpy_array)\n",
        "   "
      ],
      "metadata": {
        "colab": {
          "base_uri": "https://localhost:8080/"
        },
        "id": "oq7bX3uiEqkC",
        "outputId": "9872ded2-0fb8-4e11-d5ad-aed800c3ab86"
      },
      "execution_count": 31,
      "outputs": [
        {
          "output_type": "stream",
          "name": "stdout",
          "text": [
            "[['image' 'label']\n",
            " ['[[  0   0   0   0   0   0   0   0   0   0   0   0   0   0   0   0   0   0\\n    0   0   0   0   0   0   0   0   0   0]\\n [  0   0   0   0   0   0   0   0   0   0   0   0   0   0   0   0   0   0\\n    0   0   0   0   0   0   0   0   0   0]\\n [  0   0   0   0   0   0   0   0   0   0   0   0   0   0   0   0   0   0\\n    0   0   0   0   0   0   0   0   0   0]\\n [  0   0   0   0   0   0   0   0   0   0   0   0   0   0   0   0   0   0\\n    0   0   0   0   0   0   0   0   0   0]\\n [  0   0   0   0   0   0   0   0   0   0   0   0   0   0   0   0   0   0\\n    0   0   0   0   0   0   0   0   0   0]\\n [  0   0   0   0   0   0   0   0   0   0   0   0   3  18  18  18 126 136\\n  175  26 166 255 247 127   0   0   0   0]\\n [  0   0   0   0   0   0   0   0  30  36  94 154 170 253 253 253 253 253\\n  225 172 253 242 195  64   0   0   0   0]\\n [  0   0   0   0   0   0   0  49 238 253 253 253 253 253 253 253 253 251\\n   93  82  82  56  39   0   0   0   0   0]\\n [  0   0   0   0   0   0   0  18 219 253 253 253 253 253 198 182 247 241\\n    0   0   0   0   0   0   0   0   0   0]\\n [  0   0   0   0   0   0   0   0  80 156 107 253 253 205  11   0  43 154\\n    0   0   0   0   0   0   0   0   0   0]\\n [  0   0   0   0   0   0   0   0   0  14   1 154 253  90   0   0   0   0\\n    0   0   0   0   0   0   0   0   0   0]\\n [  0   0   0   0   0   0   0   0   0   0   0 139 253 190   2   0   0   0\\n    0   0   0   0   0   0   0   0   0   0]\\n [  0   0   0   0   0   0   0   0   0   0   0  11 190 253  70   0   0   0\\n    0   0   0   0   0   0   0   0   0   0]\\n [  0   0   0   0   0   0   0   0   0   0   0   0  35 241 225 160 108   1\\n    0   0   0   0   0   0   0   0   0   0]\\n [  0   0   0   0   0   0   0   0   0   0   0   0   0  81 240 253 253 119\\n   25   0   0   0   0   0   0   0   0   0]\\n [  0   0   0   0   0   0   0   0   0   0   0   0   0   0  45 186 253 253\\n  150  27   0   0   0   0   0   0   0   0]\\n [  0   0   0   0   0   0   0   0   0   0   0   0   0   0   0  16  93 252\\n  253 187   0   0   0   0   0   0   0   0]\\n [  0   0   0   0   0   0   0   0   0   0   0   0   0   0   0   0   0 249\\n  253 249  64   0   0   0   0   0   0   0]\\n [  0   0   0   0   0   0   0   0   0   0   0   0   0   0  46 130 183 253\\n  253 207   2   0   0   0   0   0   0   0]\\n [  0   0   0   0   0   0   0   0   0   0   0   0  39 148 229 253 253 253\\n  250 182   0   0   0   0   0   0   0   0]\\n [  0   0   0   0   0   0   0   0   0   0  24 114 221 253 253 253 253 201\\n   78   0   0   0   0   0   0   0   0   0]\\n [  0   0   0   0   0   0   0   0  23  66 213 253 253 253 253 198  81   2\\n    0   0   0   0   0   0   0   0   0   0]\\n [  0   0   0   0   0   0  18 171 219 253 253 253 253 195  80   9   0   0\\n    0   0   0   0   0   0   0   0   0   0]\\n [  0   0   0   0  55 172 226 253 253 253 253 244 133  11   0   0   0   0\\n    0   0   0   0   0   0   0   0   0   0]\\n [  0   0   0   0 136 253 253 253 212 135 132  16   0   0   0   0   0   0\\n    0   0   0   0   0   0   0   0   0   0]\\n [  0   0   0   0   0   0   0   0   0   0   0   0   0   0   0   0   0   0\\n    0   0   0   0   0   0   0   0   0   0]\\n [  0   0   0   0   0   0   0   0   0   0   0   0   0   0   0   0   0   0\\n    0   0   0   0   0   0   0   0   0   0]\\n [  0   0   0   0   0   0   0   0   0   0   0   0   0   0   0   0   0   0\\n    0   0   0   0   0   0   0   0   0   0]]'\n",
            "  '5']\n",
            " ['[[  0   0   0   0   0   0   0   0   0   0   0   0   0   0   0   0   0   0\\n    0   0   0   0   0   0   0   0   0   0]\\n [  0   0   0   0   0   0   0   0   0   0   0   0   0   0   0   0   0   0\\n    0   0   0   0   0   0   0   0   0   0]\\n [  0   0   0   0   0   0   0   0   0   0   0   0   0   0   0   0   0   0\\n    0   0   0   0   0   0   0   0   0   0]\\n [  0   0   0   0   0   0   0   0   0   0   0   0   0   0   0   0   0   0\\n    0   0   0   0   0   0   0   0   0   0]\\n [  0   0   0   0   0   0   0   0   0   0   0   0   0   0   0  51 159 253\\n  159  50   0   0   0   0   0   0   0   0]\\n [  0   0   0   0   0   0   0   0   0   0   0   0   0   0  48 238 252 252\\n  252 237   0   0   0   0   0   0   0   0]\\n [  0   0   0   0   0   0   0   0   0   0   0   0   0  54 227 253 252 239\\n  233 252  57   6   0   0   0   0   0   0]\\n [  0   0   0   0   0   0   0   0   0   0   0  10  60 224 252 253 252 202\\n   84 252 253 122   0   0   0   0   0   0]\\n [  0   0   0   0   0   0   0   0   0   0   0 163 252 252 252 253 252 252\\n   96 189 253 167   0   0   0   0   0   0]\\n [  0   0   0   0   0   0   0   0   0   0  51 238 253 253 190 114 253 228\\n   47  79 255 168   0   0   0   0   0   0]\\n [  0   0   0   0   0   0   0   0   0  48 238 252 252 179  12  75 121  21\\n    0   0 253 243  50   0   0   0   0   0]\\n [  0   0   0   0   0   0   0   0  38 165 253 233 208  84   0   0   0   0\\n    0   0 253 252 165   0   0   0   0   0]\\n [  0   0   0   0   0   0   0   7 178 252 240  71  19  28   0   0   0   0\\n    0   0 253 252 195   0   0   0   0   0]\\n [  0   0   0   0   0   0   0  57 252 252  63   0   0   0   0   0   0   0\\n    0   0 253 252 195   0   0   0   0   0]\\n [  0   0   0   0   0   0   0 198 253 190   0   0   0   0   0   0   0   0\\n    0   0 255 253 196   0   0   0   0   0]\\n [  0   0   0   0   0   0  76 246 252 112   0   0   0   0   0   0   0   0\\n    0   0 253 252 148   0   0   0   0   0]\\n [  0   0   0   0   0   0  85 252 230  25   0   0   0   0   0   0   0   0\\n    7 135 253 186  12   0   0   0   0   0]\\n [  0   0   0   0   0   0  85 252 223   0   0   0   0   0   0   0   0   7\\n  131 252 225  71   0   0   0   0   0   0]\\n [  0   0   0   0   0   0  85 252 145   0   0   0   0   0   0   0  48 165\\n  252 173   0   0   0   0   0   0   0   0]\\n [  0   0   0   0   0   0  86 253 225   0   0   0   0   0   0 114 238 253\\n  162   0   0   0   0   0   0   0   0   0]\\n [  0   0   0   0   0   0  85 252 249 146  48  29  85 178 225 253 223 167\\n   56   0   0   0   0   0   0   0   0   0]\\n [  0   0   0   0   0   0  85 252 252 252 229 215 252 252 252 196 130   0\\n    0   0   0   0   0   0   0   0   0   0]\\n [  0   0   0   0   0   0  28 199 252 252 253 252 252 233 145   0   0   0\\n    0   0   0   0   0   0   0   0   0   0]\\n [  0   0   0   0   0   0   0  25 128 252 253 252 141  37   0   0   0   0\\n    0   0   0   0   0   0   0   0   0   0]\\n [  0   0   0   0   0   0   0   0   0   0   0   0   0   0   0   0   0   0\\n    0   0   0   0   0   0   0   0   0   0]\\n [  0   0   0   0   0   0   0   0   0   0   0   0   0   0   0   0   0   0\\n    0   0   0   0   0   0   0   0   0   0]\\n [  0   0   0   0   0   0   0   0   0   0   0   0   0   0   0   0   0   0\\n    0   0   0   0   0   0   0   0   0   0]\\n [  0   0   0   0   0   0   0   0   0   0   0   0   0   0   0   0   0   0\\n    0   0   0   0   0   0   0   0   0   0]]'\n",
            "  '0']\n",
            " ...\n",
            " ['[[  0   0   0   0   0   0   0   0   0   0   0   0   0   0   0   0   0   0\\n    0   0   0   0   0   0   0   0   0   0]\\n [  0   0   0   0   0   0   0   0   0   0   0   0   0   0   0   0   0   0\\n    0   0   0   0   0   0   0   0   0   0]\\n [  0   0   0   0   0   0   0   0   0   0   0   0   0   0   0   0   0   0\\n    0   0   0   0   0   0   0   0   0   0]\\n [  0   0   0   0   0   0   0   0   0   0   0   0   0   0   0   0   0   0\\n    0   0   0   0   0   0   0   0   0   0]\\n [  0   0   0   0   0   0   0   0   0   0   0   0   0   0   0   0   0   0\\n    0   0   0   0   0   0   0   0   0   0]\\n [  0   0   0   0   0   0   0   0   0   0   0   0   0   0   0   0   0   0\\n    0  96 121 213 255 255 121   0   0   0]\\n [  0   0   0   0   0   0   0   0   0   0   0   0   0   0   0  52 108 157\\n  241 251 253 253 242 146  69   0   0   0]\\n [  0   0   0   0   0   0   0   0   0   0   0   0  10  94 164 241 253 253\\n  223 159 131  26  23   0   0   0   0   0]\\n [  0   0   0   0   0   0   0   0   0   0  60 102 218 253 253 216 117  39\\n   27   0   0   0   0   0   0   0   0   0]\\n [  0   0   0   0   0   0   0   0   0  54 205 253 253 253 147  28   0   0\\n    0   0   0   0   0   0   0   0   0   0]\\n [  0   0   0   0   0   0   0   0  60 240 253 253 253 243  31   0   0   0\\n    0   0   0   0   0   0   0   0   0   0]\\n [  0   0   0   0   0   0   0   0  26  80 208 253 253 147   0   0   0   0\\n    0   0   0   0   0   0   0   0   0   0]\\n [  0   0   0   0   0   0   0   0   0  36 222 253 253 121   0   0   0   0\\n    0   0   0   0   0   0   0   0   0   0]\\n [  0   0   0   0   0   0   0   0   0   0 177 242 253 248 147 148  91   2\\n    0   0   0   0   0   0   0   0   0   0]\\n [  0   0   0   0   0   0   0   0   0   0   0  19 120 197 253 254 253  97\\n    0   0   0   0   0   0   0   0   0   0]\\n [  0   0   0   0   0   0   0   0   0   0   0   0   0   0  72 192 254 254\\n   40   0   0   0   0   0   0   0   0   0]\\n [  0   0   0   0   0   0   0   0   0   0   0   0   0   0   0   6 242 253\\n   39   0   0   0   0   0   0   0   0   0]\\n [  0   0   0   0   0   0   0   0   0   0   0   0   0   0   0   0 121 253\\n  159   0   0   0   0   0   0   0   0   0]\\n [  0   0   0   0   0   0   0   0   0   0   0   0   0   0   0   0 108 253\\n  173   0   0   0   0   0   0   0   0   0]\\n [  0   0   0   0   0   0   0   0   0   0   0   0   0   0   0   0 108 253\\n  173   0   0   0   0   0   0   0   0   0]\\n [  0   0   0   0   0   0   0   0   0   0   0   0   0   0   0   0 108 253\\n   74   0   0   0   0   0   0   0   0   0]\\n [  0   0   0   0   0  22   0   0   0   0   0   0   0   0   0  20 201 253\\n   39   0   0   0   0   0   0   0   0   0]\\n [  0   0   0   0   0 196 161  41   5   0   0   0   3  27  98 206 253 194\\n   15   0   0   0   0   0   0   0   0   0]\\n [  0   0   0   0   0 115 240 252 163 147 147 147 158 253 253 255 184  67\\n    0   0   0   0   0   0   0   0   0   0]\\n [  0   0   0   0   0   0   0 157 253 253 253 253 253 253 253 121   6   0\\n    0   0   0   0   0   0   0   0   0   0]\\n [  0   0   0   0   0   0   0   0   0   0   0   0   0   0   0   0   0   0\\n    0   0   0   0   0   0   0   0   0   0]\\n [  0   0   0   0   0   0   0   0   0   0   0   0   0   0   0   0   0   0\\n    0   0   0   0   0   0   0   0   0   0]\\n [  0   0   0   0   0   0   0   0   0   0   0   0   0   0   0   0   0   0\\n    0   0   0   0   0   0   0   0   0   0]]'\n",
            "  '5']\n",
            " ['[[  0   0   0   0   0   0   0   0   0   0   0   0   0   0   0   0   0   0\\n    0   0   0   0   0   0   0   0   0   0]\\n [  0   0   0   0   0   0   0   0   0   0   0   0   0   0   0   0   0   0\\n    0   0   0   0   0   0   0   0   0   0]\\n [  0   0   0   0   0   0   0   0   0   0   0   0   0   0   0   0   0   0\\n   55 192 230  27   0   0   0   0   0   0]\\n [  0   0   0   0   0   0   0   0   0   0   0   0   0   0   0   0   0   8\\n  152 252 193  27   0   0   0   0   0   0]\\n [  0   0   0   0   0   0   0   0   0   0   0   0   0   0   0   0   8 129\\n  252 190   9   0   0   0   0   0   0   0]\\n [  0   0   0   0   0   0   0   0   0   0   0   0   0   0   0   0 155 252\\n  210  14   0   0   0   0   0   0   0   0]\\n [  0   0   0   0   0   0   0   0   0   0   0   0   0   0   0  62 216 199\\n   66   0   0   0   0   0   0   0   0   0]\\n [  0   0   0   0   0   0   0   0   0   0   0   0   0  11  43 254 222  62\\n    0   0   0   0   0   0   0   0   0   0]\\n [  0   0   0   0   0   0   0   0   0   0   0   0   0 143 252 222  16   0\\n    0   0   0   0   0   0   0   0   0   0]\\n [  0   0   0   0   0   0   0   0   0   0   0   0 169 246 208  17   0   0\\n    0   0   0   0   0   0   0   0   0   0]\\n [  0   0   0   0   0   0   0   0   0   0  11 143 246 236 101   0   0   0\\n    0   0   0   0   0   0   0   0   0   0]\\n [  0   0   0   0   0   0   0   0   0   0  69 226 199 111   0   0   0   0\\n    0   0   0   0   0   0   0   0   0   0]\\n [  0   0   0   0   0   0   0   0   0   0 254 253  21   0   0   0   0   0\\n    0   0   0   0   0   0   0   0   0   0]\\n [  0   0   0   0   0   0   0   0   0 124 253 110   5   0   0   0   0   0\\n   22 128 191 190 137  28   0   0   0   0]\\n [  0   0   0   0   0   0   0   0 112 241 170  32   0   0   0  31 127 180\\n  237 252 253 252 242  42   0   0   0   0]\\n [  0   0   0   0   0   0   0   6 190 226   0   0   0   0  27 218 252 194\\n  162  84  84 131 232  35   0   0   0   0]\\n [  0   0   0   0   0   0   0 110 252 147   0   0   0   0 194 253 217  56\\n    0   0  18 216 187   0   0   0   0   0]\\n [  0   0   0   0   0   0   0 233 216  18   0   0   0  27 194 150 106   9\\n    0 124 255 186   9   0   0   0   0   0]\\n [  0   0   0   0   0   0  64 247 110   0   0   0   0   0   0   0   0  87\\n  146 163  63  16   0   0   0   0   0   0]\\n [  0   0   0   0   0   0  14 236 128   0   0   0  11  22  66 128 206 231\\n  178  12   0   0   0   0   0   0   0   0]\\n [  0   0   0   0   0   0  28 239 196 169  82 169 211 252 252 128  84   7\\n    0   0   0   0   0   0   0   0   0   0]\\n [  0   0   0   0   0   0  36 241 252 252 253 217 138  42  42   0   0   0\\n    0   0   0   0   0   0   0   0   0   0]\\n [  0   0   0   0   0   0   0   0   0   0   0   0   0   0   0   0   0   0\\n    0   0   0   0   0   0   0   0   0   0]\\n [  0   0   0   0   0   0   0   0   0   0   0   0   0   0   0   0   0   0\\n    0   0   0   0   0   0   0   0   0   0]\\n [  0   0   0   0   0   0   0   0   0   0   0   0   0   0   0   0   0   0\\n    0   0   0   0   0   0   0   0   0   0]\\n [  0   0   0   0   0   0   0   0   0   0   0   0   0   0   0   0   0   0\\n    0   0   0   0   0   0   0   0   0   0]\\n [  0   0   0   0   0   0   0   0   0   0   0   0   0   0   0   0   0   0\\n    0   0   0   0   0   0   0   0   0   0]\\n [  0   0   0   0   0   0   0   0   0   0   0   0   0   0   0   0   0   0\\n    0   0   0   0   0   0   0   0   0   0]]'\n",
            "  '6']\n",
            " ['[[  0   0   0   0   0   0   0   0   0   0   0   0   0   0   0   0   0   0\\n    0   0   0   0   0   0   0   0   0   0]\\n [  0   0   0   0   0   0   0   0   0   0   0   0   0   0   0   0   0   0\\n    0   0   0   0   0   0   0   0   0   0]\\n [  0   0   0   0   0   0   0   0   0   0   0   0   0   0   0   0   0   0\\n    0   0   0   0   0   0   0   0   0   0]\\n [  0   0   0   0   0   0   0   0   0   0   0   0   0   0   0   0   0   0\\n    0   0   0   0   0   0   0   0   0   0]\\n [  0   0   0   0   0   0   0   0   0   0   0   0   0   0   0   0   0   0\\n    0   0   0   0   0   0   0   0   0   0]\\n [  0   0   0   0   0   0   0   0   0   0   0   0   0   0   0   0   0   0\\n    0   0   0   0   0   0   0   0   0   0]\\n [  0   0   0   0   0   0   0   0   0   0   0   0   0   0   0   0  38  48\\n   48  22   0   0   0   0   0   0   0   0]\\n [  0   0   0   0   0   0   0   0   0   0   0   0   0  62  97 198 243 254\\n  254 212  27   0   0   0   0   0   0   0]\\n [  0   0   0   0   0   0   0   0   0   0   0   0  67 172 254 254 225 218\\n  218 237 248  40   0  21 164 187   0   0]\\n [  0   0   0   0   0   0   0   0   0   0   0  89 219 254  97  67  14   0\\n    0  92 231 122  23 203 236  59   0   0]\\n [  0   0   0   0   0   0   0   0   0   0  25 217 242  92   4   0   0   0\\n    0   4 147 253 240 232  92   0   0   0]\\n [  0   0   0   0   0   0   0   0   0   0 101 255  92   0   0   0   0   0\\n    0 105 254 254 177  11   0   0   0   0]\\n [  0   0   0   0   0   0   0   0   0   0 167 244  41   0   0   0   7  76\\n  199 238 239  94  10   0   0   0   0   0]\\n [  0   0   0   0   0   0   0   0   0   0 192 121   0   0   2  63 180 254\\n  233 126   0   0   0   0   0   0   0   0]\\n [  0   0   0   0   0   0   0   0   0   0 190 196  14   2  97 254 252 146\\n   52   0   0   0   0   0   0   0   0   0]\\n [  0   0   0   0   0   0   0   0   0   0 130 225  71 180 232 181  60   0\\n    0   0   0   0   0   0   0   0   0   0]\\n [  0   0   0   0   0   0   0   0   0   0 130 254 254 230  46   0   0   0\\n    0   0   0   0   0   0   0   0   0   0]\\n [  0   0   0   0   0   0   0   0   6  77 244 254 162   4   0   0   0   0\\n    0   0   0   0   0   0   0   0   0   0]\\n [  0   0   0   0   0   0   0   0 110 254 218 254 116   0   0   0   0   0\\n    0   0   0   0   0   0   0   0   0   0]\\n [  0   0   0   0   0   0   0 131 254 154  28 213  86   0   0   0   0   0\\n    0   0   0   0   0   0   0   0   0   0]\\n [  0   0   0   0   0   0  66 209 153  19  19 233  60   0   0   0   0   0\\n    0   0   0   0   0   0   0   0   0   0]\\n [  0   0   0   0   0   0 142 254 165   0  14 216 167   0   0   0   0   0\\n    0   0   0   0   0   0   0   0   0   0]\\n [  0   0   0   0   0   0  90 254 175   0  18 229  92   0   0   0   0   0\\n    0   0   0   0   0   0   0   0   0   0]\\n [  0   0   0   0   0   0  26 229 249 176 222 244  44   0   0   0   0   0\\n    0   0   0   0   0   0   0   0   0   0]\\n [  0   0   0   0   0   0   0  73 193 197 134   0   0   0   0   0   0   0\\n    0   0   0   0   0   0   0   0   0   0]\\n [  0   0   0   0   0   0   0   0   0   0   0   0   0   0   0   0   0   0\\n    0   0   0   0   0   0   0   0   0   0]\\n [  0   0   0   0   0   0   0   0   0   0   0   0   0   0   0   0   0   0\\n    0   0   0   0   0   0   0   0   0   0]\\n [  0   0   0   0   0   0   0   0   0   0   0   0   0   0   0   0   0   0\\n    0   0   0   0   0   0   0   0   0   0]]'\n",
            "  '8']]\n"
          ]
        }
      ]
    },
    {
      "cell_type": "code",
      "source": [
        "# array.shape\n",
        "print(type(train_numpy_array))"
      ],
      "metadata": {
        "colab": {
          "base_uri": "https://localhost:8080/"
        },
        "id": "B_mYUTMFGJp_",
        "outputId": "4a202238-6d42-441a-f3f5-58dae31983cb"
      },
      "execution_count": 32,
      "outputs": [
        {
          "output_type": "stream",
          "name": "stdout",
          "text": [
            "<class 'numpy.ndarray'>\n"
          ]
        }
      ]
    },
    {
      "cell_type": "code",
      "source": [
        "import numpy as np\n",
        "import csv\n",
        "csv_to_numpy_train = '/content/mnist_data_test.csv'\n",
        "with open(csv_to_numpy_train) as f:\n",
        "    reader = csv.reader(f)\n",
        "    lst = list(reader)\n",
        "    test_numpy_array = np.array(lst)\n",
        "print(test_numpy_array)\n",
        "   "
      ],
      "metadata": {
        "colab": {
          "base_uri": "https://localhost:8080/"
        },
        "outputId": "1a315748-a259-4408-86be-5ea9b647efea",
        "id": "nGvd949_TOxQ"
      },
      "execution_count": 33,
      "outputs": [
        {
          "output_type": "stream",
          "name": "stdout",
          "text": [
            "[['image' 'label']\n",
            " ['[[  0   0   0   0   0   0   0   0   0   0   0   0   0   0   0   0   0   0\\n    0   0   0   0   0   0   0   0   0   0]\\n [  0   0   0   0   0   0   0   0   0   0   0   0   0   0   0   0   0   0\\n    0   0   0   0   0   0   0   0   0   0]\\n [  0   0   0   0   0   0   0   0   0   0   0   0   0   0   0   0   0   0\\n    0   0   0   0   0   0   0   0   0   0]\\n [  0   0   0   0   0   0   0   0   0   0   0   0   0   0   0   0   0   0\\n    0   0   0   0   0   0   0   0   0   0]\\n [  0   0   0   0   0   0   0   0   0   0   0   0   0   0   0   0   0   0\\n    0   0   0   0   0   0   0   0   0   0]\\n [  0   0   0   0   0   0   0   0   0   0   0   0   0   0   0   0   0   0\\n    0   0   0   0   0   0   0   0   0   0]\\n [  0   0   0   0   0   0   0   0   0   0   0   0   0   0   0   0   0   0\\n    0   0   0   0   0   0   0   0   0   0]\\n [  0   0   0   0   0   0  84 185 159 151  60  36   0   0   0   0   0   0\\n    0   0   0   0   0   0   0   0   0   0]\\n [  0   0   0   0   0   0 222 254 254 254 254 241 198 198 198 198 198 198\\n  198 198 170  52   0   0   0   0   0   0]\\n [  0   0   0   0   0   0  67 114  72 114 163 227 254 225 254 254 254 250\\n  229 254 254 140   0   0   0   0   0   0]\\n [  0   0   0   0   0   0   0   0   0   0   0  17  66  14  67  67  67  59\\n   21 236 254 106   0   0   0   0   0   0]\\n [  0   0   0   0   0   0   0   0   0   0   0   0   0   0   0   0   0   0\\n   83 253 209  18   0   0   0   0   0   0]\\n [  0   0   0   0   0   0   0   0   0   0   0   0   0   0   0   0   0  22\\n  233 255  83   0   0   0   0   0   0   0]\\n [  0   0   0   0   0   0   0   0   0   0   0   0   0   0   0   0   0 129\\n  254 238  44   0   0   0   0   0   0   0]\\n [  0   0   0   0   0   0   0   0   0   0   0   0   0   0   0   0  59 249\\n  254  62   0   0   0   0   0   0   0   0]\\n [  0   0   0   0   0   0   0   0   0   0   0   0   0   0   0   0 133 254\\n  187   5   0   0   0   0   0   0   0   0]\\n [  0   0   0   0   0   0   0   0   0   0   0   0   0   0   0   9 205 248\\n   58   0   0   0   0   0   0   0   0   0]\\n [  0   0   0   0   0   0   0   0   0   0   0   0   0   0   0 126 254 182\\n    0   0   0   0   0   0   0   0   0   0]\\n [  0   0   0   0   0   0   0   0   0   0   0   0   0   0  75 251 240  57\\n    0   0   0   0   0   0   0   0   0   0]\\n [  0   0   0   0   0   0   0   0   0   0   0   0   0  19 221 254 166   0\\n    0   0   0   0   0   0   0   0   0   0]\\n [  0   0   0   0   0   0   0   0   0   0   0   0   3 203 254 219  35   0\\n    0   0   0   0   0   0   0   0   0   0]\\n [  0   0   0   0   0   0   0   0   0   0   0   0  38 254 254  77   0   0\\n    0   0   0   0   0   0   0   0   0   0]\\n [  0   0   0   0   0   0   0   0   0   0   0  31 224 254 115   1   0   0\\n    0   0   0   0   0   0   0   0   0   0]\\n [  0   0   0   0   0   0   0   0   0   0   0 133 254 254  52   0   0   0\\n    0   0   0   0   0   0   0   0   0   0]\\n [  0   0   0   0   0   0   0   0   0   0  61 242 254 254  52   0   0   0\\n    0   0   0   0   0   0   0   0   0   0]\\n [  0   0   0   0   0   0   0   0   0   0 121 254 254 219  40   0   0   0\\n    0   0   0   0   0   0   0   0   0   0]\\n [  0   0   0   0   0   0   0   0   0   0 121 254 207  18   0   0   0   0\\n    0   0   0   0   0   0   0   0   0   0]\\n [  0   0   0   0   0   0   0   0   0   0   0   0   0   0   0   0   0   0\\n    0   0   0   0   0   0   0   0   0   0]]'\n",
            "  '7']\n",
            " ['[[  0   0   0   0   0   0   0   0   0   0   0   0   0   0   0   0   0   0\\n    0   0   0   0   0   0   0   0   0   0]\\n [  0   0   0   0   0   0   0   0   0   0   0   0   0   0   0   0   0   0\\n    0   0   0   0   0   0   0   0   0   0]\\n [  0   0   0   0   0   0   0   0   0   0   0   0   0   0   0   0   0   0\\n    0   0   0   0   0   0   0   0   0   0]\\n [  0   0   0   0   0   0   0   0   0   0 116 125 171 255 255 150  93   0\\n    0   0   0   0   0   0   0   0   0   0]\\n [  0   0   0   0   0   0   0   0   0 169 253 253 253 253 253 253 218  30\\n    0   0   0   0   0   0   0   0   0   0]\\n [  0   0   0   0   0   0   0   0 169 253 253 253 213 142 176 253 253 122\\n    0   0   0   0   0   0   0   0   0   0]\\n [  0   0   0   0   0   0   0  52 250 253 210  32  12   0   6 206 253 140\\n    0   0   0   0   0   0   0   0   0   0]\\n [  0   0   0   0   0   0   0  77 251 210  25   0   0   0 122 248 253  65\\n    0   0   0   0   0   0   0   0   0   0]\\n [  0   0   0   0   0   0   0   0  31  18   0   0   0   0 209 253 253  65\\n    0   0   0   0   0   0   0   0   0   0]\\n [  0   0   0   0   0   0   0   0   0   0   0   0   0 117 247 253 198  10\\n    0   0   0   0   0   0   0   0   0   0]\\n [  0   0   0   0   0   0   0   0   0   0   0   0  76 247 253 231  63   0\\n    0   0   0   0   0   0   0   0   0   0]\\n [  0   0   0   0   0   0   0   0   0   0   0   0 128 253 253 144   0   0\\n    0   0   0   0   0   0   0   0   0   0]\\n [  0   0   0   0   0   0   0   0   0   0   0 176 246 253 159  12   0   0\\n    0   0   0   0   0   0   0   0   0   0]\\n [  0   0   0   0   0   0   0   0   0   0  25 234 253 233  35   0   0   0\\n    0   0   0   0   0   0   0   0   0   0]\\n [  0   0   0   0   0   0   0   0   0   0 198 253 253 141   0   0   0   0\\n    0   0   0   0   0   0   0   0   0   0]\\n [  0   0   0   0   0   0   0   0   0  78 248 253 189  12   0   0   0   0\\n    0   0   0   0   0   0   0   0   0   0]\\n [  0   0   0   0   0   0   0   0  19 200 253 253 141   0   0   0   0   0\\n    0   0   0   0   0   0   0   0   0   0]\\n [  0   0   0   0   0   0   0   0 134 253 253 173  12   0   0   0   0   0\\n    0   0   0   0   0   0   0   0   0   0]\\n [  0   0   0   0   0   0   0   0 248 253 253  25   0   0   0   0   0   0\\n    0   0   0   0   0   0   0   0   0   0]\\n [  0   0   0   0   0   0   0   0 248 253 253  43  20  20  20  20   5   0\\n    5  20  20  37 150 150 150 147  10   0]\\n [  0   0   0   0   0   0   0   0 248 253 253 253 253 253 253 253 168 143\\n  166 253 253 253 253 253 253 253 123   0]\\n [  0   0   0   0   0   0   0   0 174 253 253 253 253 253 253 253 253 253\\n  253 253 249 247 247 169 117 117  57   0]\\n [  0   0   0   0   0   0   0   0   0 118 123 123 123 166 253 253 253 155\\n  123 123  41   0   0   0   0   0   0   0]\\n [  0   0   0   0   0   0   0   0   0   0   0   0   0   0   0   0   0   0\\n    0   0   0   0   0   0   0   0   0   0]\\n [  0   0   0   0   0   0   0   0   0   0   0   0   0   0   0   0   0   0\\n    0   0   0   0   0   0   0   0   0   0]\\n [  0   0   0   0   0   0   0   0   0   0   0   0   0   0   0   0   0   0\\n    0   0   0   0   0   0   0   0   0   0]\\n [  0   0   0   0   0   0   0   0   0   0   0   0   0   0   0   0   0   0\\n    0   0   0   0   0   0   0   0   0   0]\\n [  0   0   0   0   0   0   0   0   0   0   0   0   0   0   0   0   0   0\\n    0   0   0   0   0   0   0   0   0   0]]'\n",
            "  '2']\n",
            " ...\n",
            " ['[[  0   0   0   0   0   0   0   0   0   0   0   0   0   0   0   0   0   0\\n    0   0   0   0   0   0   0   0   0   0]\\n [  0   0   0   0   0   0   0   0   0   0   0   0   0   0   0   0   0   0\\n    0   0   0   0   0   0   0   0   0   0]\\n [  0   0   0   0   0   0   0   0   0   0   0   0   0   0   0   0   0   0\\n    0   0   0   0   0   0   0   0   0   0]\\n [  0   0   0   0   0   0   0   0   0   0   0   0   0   0   0   0   0   0\\n    0   0   0   0   0   0   0   0   0   0]\\n [  0   0   0   0   0   0   0   0   0   0   0   0   0   0   0   0   0   0\\n    0   0   0   0   0   0   0   0   0   0]\\n [  0   0   0   0   0   0   0   0   0   0   0   0   0   0   0   0   0   0\\n    0   0   0   0   0   0   0   0   0   0]\\n [  0   0   0   0   0   0   0   0   0   0   0  23 217 228  35   0   0   0\\n    0 113 241 146   0   0   0   0   0   0]\\n [  0   0   0   0   0   0   0   0   0   0   2 116 254 218  32   0   0   0\\n   54 238 254  24   0   0   0   0   0   0]\\n [  0   0   0   0   0   0   0   0   0   0 108 254 254  74   0   0   0  46\\n  236 254 198  11   0   0   0   0   0   0]\\n [  0   0   0   0   0   0   0   0   0  31 216 254 250  67   0   0   0 154\\n  254 254 142   0   0   0   0   0   0   0]\\n [  0   0   0   0   0   0   0   0   4 168 254 254 189   0   0   0  62 236\\n  254 254  30   0   0   0   0   0   0   0]\\n [  0   0   0   0   0   0   0   0  25 254 254 248  69   0   0  11 208 254\\n  254 176  11   0   0   0   0   0   0   0]\\n [  0   0   0   0   0   0   0   0  47 254 254 211   0   0  11 101 254 254\\n  254  37   0   0   0   0   0   0   0   0]\\n [  0   0   0   0   0   0   0   0 149 254 254 241 174 174 194 254 254 254\\n  254  80   6   0   0   0   0   0   0   0]\\n [  0   0   0   0   0   0   0   0 123 254 254 254 254 254 254 254 254 254\\n  254 254  30   0   0   0   0   0   0   0]\\n [  0   0   0   0   0   0   0   0  19 230 254 254 254 254 254 254 254 254\\n  254 254  30   0   0   0   0   0   0   0]\\n [  0   0   0   0   0   0   0   0   0  38  80 186 199 254 254 254 254 199\\n  186  80   8   0   0   0   0   0   0   0]\\n [  0   0   0   0   0   0   0   0   0   0   0   0  50 254 254 254 196  11\\n    0   0   0   0   0   0   0   0   0   0]\\n [  0   0   0   0   0   0   0   0   0   0   0  14 176 254 254 254  79   0\\n    0   0   0   0   0   0   0   0   0   0]\\n [  0   0   0   0   0   0   0   0   0   0   0  44 254 254 254 197  10   0\\n    0   0   0   0   0   0   0   0   0   0]\\n [  0   0   0   0   0   0   0   0   0   0  14 182 254 254 254  80   0   0\\n    0   0   0   0   0   0   0   0   0   0]\\n [  0   0   0   0   0   0   0   0   0   0  38 254 254 254 199   8   0   0\\n    0   0   0   0   0   0   0   0   0   0]\\n [  0   0   0   0   0   0   0   0   0   0 150 254 254 254 140   0   0   0\\n    0   0   0   0   0   0   0   0   0   0]\\n [  0   0   0   0   0   0   0   0   0   0 162 254 254 230  38   0   0   0\\n    0   0   0   0   0   0   0   0   0   0]\\n [  0   0   0   0   0   0   0   0   0   0 162 254 254 140   0   0   0   0\\n    0   0   0   0   0   0   0   0   0   0]\\n [  0   0   0   0   0   0   0   0   0   0 102 255 230  38   0   0   0   0\\n    0   0   0   0   0   0   0   0   0   0]\\n [  0   0   0   0   0   0   0   0   0   0   0   0   0   0   0   0   0   0\\n    0   0   0   0   0   0   0   0   0   0]\\n [  0   0   0   0   0   0   0   0   0   0   0   0   0   0   0   0   0   0\\n    0   0   0   0   0   0   0   0   0   0]]'\n",
            "  '4']\n",
            " ['[[  0   0   0   0   0   0   0   0   0   0   0   0   0   0   0   0   0   0\\n    0   0   0   0   0   0   0   0   0   0]\\n [  0   0   0   0   0   0   0   0   0   0   0   0   0   0   0   0   0   0\\n    0   0   0   0   0   0   0   0   0   0]\\n [  0   0   0   0   0   0   0   0   0   0   0   0   0   0   0   0   0   0\\n    0   0   0   0   0   0   0   0   0   0]\\n [  0   0   0   0   0   0   0   0   0   0   0   0   0   0   0   0   0   0\\n    0   0   0   0   0   0   0   0   0   0]\\n [  0   0   0   0   0   0   0   0   0   0   0   0   0   0   0   0   0   0\\n    0   0   0   0   0   0   0   0   0   0]\\n [  0   0   0   0   0   0   0   0   0   0   0   0   0   0   0   0   0   0\\n    0   0   0   0   0   0   0   0   0   0]\\n [  0   0   0   0   0   0   0   0   0   0   0   0   0   0   0   0   0   0\\n    0   0   0   0   0   0   0   0   0   0]\\n [  0   0   0   0   0   0   0   0   0   0   0   0   0   0   0   0   0   0\\n    0   0   0   0   0   0   0   0   0   0]\\n [  0   0   0   0   0   0   0   0   0   0   0   0   8  10  78   0   0   0\\n    0   0   0   0  15 104 104 104  69   0]\\n [  0   0   0   0   0   0   0   0   0   0   0 123 238 254 235 159  76 111\\n   76 115 169 169 238 254 254 254 254   0]\\n [  0   0   0   0   0   0   0   0   0   0  71 252 254 254 254 254 254 254\\n  254 254 254 254 254 254 254 248 102   0]\\n [  0   0   0   0   0   0   0   0   0   0  83 254 254 254 254 254 247 236\\n  221 179 235 182 140 110  47  42   0   0]\\n [  0   0   0   0   0   0   0   0   0  39 229 254 254 194 169 124  47   0\\n    0   0   0   0   0   0   0   0   0   0]\\n [  0   0   0   0   0   0   0   0   0  83 254 254 254 248 133  51   0   0\\n    0   0   0   0   0   0   0   0   0   0]\\n [  0   0   0   0   0   0   0   0   0   5 213 254 254 254 254 249  91   0\\n    0   0   0   0   0   0   0   0   0   0]\\n [  0   0   0   0   0   0   0   0   0   0  44 152 201 254 254 254 135   0\\n    0   0   0   0   0   0   0   0   0   0]\\n [  0   0   0   0   0   0   0  25 237 106   0   0   0  32 200 254 255  50\\n    0   0   0   0   0   0   0   0   0   0]\\n [  0   0   0   0   0   0   0 123 251 181   0   0   0  13 156 254 254 126\\n    0   0   0   0   0   0   0   0   0   0]\\n [  0   0   0   0   0   0   0 254 254  56   0   0   0  85 254 254 254   0\\n    0   0   0   0   0   0   0   0   0   0]\\n [  0   0   0   0   0   0   0 198 254 149  54   0   0  60 251 254 254  29\\n    0   0   0   0   0   0   0   0   0   0]\\n [  0   0   0   0   0   0   0  89 248 254 220 107 148 236 253 248 171   7\\n    0   0   0   0   0   0   0   0   0   0]\\n [  0   0   0   0   0   0   0   0 139 249 254 254 254 254 249 173   0   0\\n    0   0   0   0   0   0   0   0   0   0]\\n [  0   0   0   0   0   0   0   0   0  97 194 254 254 254 134   0   0   0\\n    0   0   0   0   0   0   0   0   0   0]\\n [  0   0   0   0   0   0   0   0   0   0   3  97 103  37   1   0   0   0\\n    0   0   0   0   0   0   0   0   0   0]\\n [  0   0   0   0   0   0   0   0   0   0   0   0   0   0   0   0   0   0\\n    0   0   0   0   0   0   0   0   0   0]\\n [  0   0   0   0   0   0   0   0   0   0   0   0   0   0   0   0   0   0\\n    0   0   0   0   0   0   0   0   0   0]\\n [  0   0   0   0   0   0   0   0   0   0   0   0   0   0   0   0   0   0\\n    0   0   0   0   0   0   0   0   0   0]\\n [  0   0   0   0   0   0   0   0   0   0   0   0   0   0   0   0   0   0\\n    0   0   0   0   0   0   0   0   0   0]]'\n",
            "  '5']\n",
            " ['[[  0   0   0   0   0   0   0   0   0   0   0   0   0   0   0   0   0   0\\n    0   0   0   0   0   0   0   0   0   0]\\n [  0   0   0   0   0   0   0   0   0   0   0   0   0   0   0   0   0   0\\n    0   0   0   0   0   0   0   0   0   0]\\n [  0   0   0   0   0   0   0   0   0   0   0   0   0   0   0   0   0   8\\n  117 254 220  89   0   0   0   0   0   0]\\n [  0   0   0   0   0   0   0   0   0   0   0   0   0   0   0  13  95 212\\n  253 253 253 157   0   0   0   0   0   0]\\n [  0   0   0   0   0   0   0   0   0   0   0   0   0  16  95 209 253 253\\n  253 245 125  18   0   0   0   0   0   0]\\n [  0   0   0   0   0   0   0   0   0   0   0  40  96 206 253 254 253 253\\n  198  64   0   0   0   0   0   0   0   0]\\n [  0   0   0   0   0   0   0   0   0  44 182 240 253 253 253 254 253 198\\n   24   0   0   0   0   0   0   0   0   0]\\n [  0   0   0   0   0   0   0   0   0  15  60  60 168 253 253 254 200  23\\n    0   0   0   0   0   0   0   0   0   0]\\n [  0   0   0   0   0   0   0   0   0   0   0  70 247 253 253 245  21   0\\n    0   0   0   0   0   0   0   0   0   0]\\n [  0   0   0   0   0   0   0   0   0   0  75 207 253 253 207  92   0   0\\n    0   0   0   0   0   0   0   0   0   0]\\n [  0   0   0   0   0   0   0   0   0  79 219 253 253 253 138   0   0   0\\n    0   0   0   0   0   0   0   0   0   0]\\n [  0   0   0   0   0   0   0   0 105 250 253 253 253  34   1   0   0   0\\n    0   0   0   0   0   0   0   0   0   0]\\n [  0   0   0   0   0   0   0  95 254 254 254 254  94   0   0   0   0   0\\n    3  13  13  13   8   0   0   0   0   0]\\n [  0   0   0   0   0   0   0 107 253 253 253 204  15   0   0   0   0  21\\n  166 253 253 253 212  25   0   0   0   0]\\n [  0   0   0   0   0   0  33 217 253 253 132  64   0   0  18  43 157 171\\n  253 253 253 253 253 160   2   0   0   0]\\n [  0   0   0   0   0   3 166 253 253 242  49  17  49 158 210 254 253 253\\n  253 253 253 253 253 253  11   0   0   0]\\n [  0   0   0   0   0  10 227 253 253 207  15 172 253 253 253 254 247 201\\n  253 210 210 253 253 175   4   0   0   0]\\n [  0   0   0   0   0  10 228 253 253 224  87 242 253 253 184  60  54   9\\n   60  35 182 253 253  52   0   0   0   0]\\n [  0   0   0   0   0  13 253 253 253 253 231 253 253 253  93  86  86  86\\n  109 217 253 253 134   5   0   0   0   0]\\n [  0   0   0   0   0   2 115 253 253 253 253 253 253 253 253 254 253 253\\n  253 253 253 134   5   0   0   0   0   0]\\n [  0   0   0   0   0   0   3 166 253 253 253 253 253 253 253 254 253 253\\n  253 175  52   5   0   0   0   0   0   0]\\n [  0   0   0   0   0   0   0   7  35 132 225 253 253 253 195 132 132 132\\n  110   4   0   0   0   0   0   0   0   0]\\n [  0   0   0   0   0   0   0   0   0   0   0   0   0   0   0   0   0   0\\n    0   0   0   0   0   0   0   0   0   0]\\n [  0   0   0   0   0   0   0   0   0   0   0   0   0   0   0   0   0   0\\n    0   0   0   0   0   0   0   0   0   0]\\n [  0   0   0   0   0   0   0   0   0   0   0   0   0   0   0   0   0   0\\n    0   0   0   0   0   0   0   0   0   0]\\n [  0   0   0   0   0   0   0   0   0   0   0   0   0   0   0   0   0   0\\n    0   0   0   0   0   0   0   0   0   0]\\n [  0   0   0   0   0   0   0   0   0   0   0   0   0   0   0   0   0   0\\n    0   0   0   0   0   0   0   0   0   0]\\n [  0   0   0   0   0   0   0   0   0   0   0   0   0   0   0   0   0   0\\n    0   0   0   0   0   0   0   0   0   0]]'\n",
            "  '6']]\n"
          ]
        }
      ]
    },
    {
      "cell_type": "code",
      "source": [
        "new_dataset = (( train_numpy_array ) , (test_numpy_array))\n",
        "\n",
        "\n"
      ],
      "metadata": {
        "id": "RhUfe2jaTW93"
      },
      "execution_count": 38,
      "outputs": []
    },
    {
      "cell_type": "code",
      "source": [
        "print(type(new_dataset))"
      ],
      "metadata": {
        "colab": {
          "base_uri": "https://localhost:8080/"
        },
        "id": "Q7KhmEV-UU6j",
        "outputId": "599ecae8-367b-4202-937a-60149246130f"
      },
      "execution_count": 36,
      "outputs": [
        {
          "output_type": "stream",
          "name": "stdout",
          "text": [
            "<class 'tuple'>\n"
          ]
        }
      ]
    },
    {
      "cell_type": "code",
      "source": [
        "print(new_dataset)"
      ],
      "metadata": {
        "colab": {
          "base_uri": "https://localhost:8080/"
        },
        "id": "13qYx_n3UXpb",
        "outputId": "cba0cf19-18c1-4dad-9c3f-03325ac74094"
      },
      "execution_count": 37,
      "outputs": [
        {
          "output_type": "stream",
          "name": "stdout",
          "text": [
            "(array([['image', 'label'],\n",
            "       ['[[  0   0   0   0   0   0   0   0   0   0   0   0   0   0   0   0   0   0\\n    0   0   0   0   0   0   0   0   0   0]\\n [  0   0   0   0   0   0   0   0   0   0   0   0   0   0   0   0   0   0\\n    0   0   0   0   0   0   0   0   0   0]\\n [  0   0   0   0   0   0   0   0   0   0   0   0   0   0   0   0   0   0\\n    0   0   0   0   0   0   0   0   0   0]\\n [  0   0   0   0   0   0   0   0   0   0   0   0   0   0   0   0   0   0\\n    0   0   0   0   0   0   0   0   0   0]\\n [  0   0   0   0   0   0   0   0   0   0   0   0   0   0   0   0   0   0\\n    0   0   0   0   0   0   0   0   0   0]\\n [  0   0   0   0   0   0   0   0   0   0   0   0   3  18  18  18 126 136\\n  175  26 166 255 247 127   0   0   0   0]\\n [  0   0   0   0   0   0   0   0  30  36  94 154 170 253 253 253 253 253\\n  225 172 253 242 195  64   0   0   0   0]\\n [  0   0   0   0   0   0   0  49 238 253 253 253 253 253 253 253 253 251\\n   93  82  82  56  39   0   0   0   0   0]\\n [  0   0   0   0   0   0   0  18 219 253 253 253 253 253 198 182 247 241\\n    0   0   0   0   0   0   0   0   0   0]\\n [  0   0   0   0   0   0   0   0  80 156 107 253 253 205  11   0  43 154\\n    0   0   0   0   0   0   0   0   0   0]\\n [  0   0   0   0   0   0   0   0   0  14   1 154 253  90   0   0   0   0\\n    0   0   0   0   0   0   0   0   0   0]\\n [  0   0   0   0   0   0   0   0   0   0   0 139 253 190   2   0   0   0\\n    0   0   0   0   0   0   0   0   0   0]\\n [  0   0   0   0   0   0   0   0   0   0   0  11 190 253  70   0   0   0\\n    0   0   0   0   0   0   0   0   0   0]\\n [  0   0   0   0   0   0   0   0   0   0   0   0  35 241 225 160 108   1\\n    0   0   0   0   0   0   0   0   0   0]\\n [  0   0   0   0   0   0   0   0   0   0   0   0   0  81 240 253 253 119\\n   25   0   0   0   0   0   0   0   0   0]\\n [  0   0   0   0   0   0   0   0   0   0   0   0   0   0  45 186 253 253\\n  150  27   0   0   0   0   0   0   0   0]\\n [  0   0   0   0   0   0   0   0   0   0   0   0   0   0   0  16  93 252\\n  253 187   0   0   0   0   0   0   0   0]\\n [  0   0   0   0   0   0   0   0   0   0   0   0   0   0   0   0   0 249\\n  253 249  64   0   0   0   0   0   0   0]\\n [  0   0   0   0   0   0   0   0   0   0   0   0   0   0  46 130 183 253\\n  253 207   2   0   0   0   0   0   0   0]\\n [  0   0   0   0   0   0   0   0   0   0   0   0  39 148 229 253 253 253\\n  250 182   0   0   0   0   0   0   0   0]\\n [  0   0   0   0   0   0   0   0   0   0  24 114 221 253 253 253 253 201\\n   78   0   0   0   0   0   0   0   0   0]\\n [  0   0   0   0   0   0   0   0  23  66 213 253 253 253 253 198  81   2\\n    0   0   0   0   0   0   0   0   0   0]\\n [  0   0   0   0   0   0  18 171 219 253 253 253 253 195  80   9   0   0\\n    0   0   0   0   0   0   0   0   0   0]\\n [  0   0   0   0  55 172 226 253 253 253 253 244 133  11   0   0   0   0\\n    0   0   0   0   0   0   0   0   0   0]\\n [  0   0   0   0 136 253 253 253 212 135 132  16   0   0   0   0   0   0\\n    0   0   0   0   0   0   0   0   0   0]\\n [  0   0   0   0   0   0   0   0   0   0   0   0   0   0   0   0   0   0\\n    0   0   0   0   0   0   0   0   0   0]\\n [  0   0   0   0   0   0   0   0   0   0   0   0   0   0   0   0   0   0\\n    0   0   0   0   0   0   0   0   0   0]\\n [  0   0   0   0   0   0   0   0   0   0   0   0   0   0   0   0   0   0\\n    0   0   0   0   0   0   0   0   0   0]]',\n",
            "        '5'],\n",
            "       ['[[  0   0   0   0   0   0   0   0   0   0   0   0   0   0   0   0   0   0\\n    0   0   0   0   0   0   0   0   0   0]\\n [  0   0   0   0   0   0   0   0   0   0   0   0   0   0   0   0   0   0\\n    0   0   0   0   0   0   0   0   0   0]\\n [  0   0   0   0   0   0   0   0   0   0   0   0   0   0   0   0   0   0\\n    0   0   0   0   0   0   0   0   0   0]\\n [  0   0   0   0   0   0   0   0   0   0   0   0   0   0   0   0   0   0\\n    0   0   0   0   0   0   0   0   0   0]\\n [  0   0   0   0   0   0   0   0   0   0   0   0   0   0   0  51 159 253\\n  159  50   0   0   0   0   0   0   0   0]\\n [  0   0   0   0   0   0   0   0   0   0   0   0   0   0  48 238 252 252\\n  252 237   0   0   0   0   0   0   0   0]\\n [  0   0   0   0   0   0   0   0   0   0   0   0   0  54 227 253 252 239\\n  233 252  57   6   0   0   0   0   0   0]\\n [  0   0   0   0   0   0   0   0   0   0   0  10  60 224 252 253 252 202\\n   84 252 253 122   0   0   0   0   0   0]\\n [  0   0   0   0   0   0   0   0   0   0   0 163 252 252 252 253 252 252\\n   96 189 253 167   0   0   0   0   0   0]\\n [  0   0   0   0   0   0   0   0   0   0  51 238 253 253 190 114 253 228\\n   47  79 255 168   0   0   0   0   0   0]\\n [  0   0   0   0   0   0   0   0   0  48 238 252 252 179  12  75 121  21\\n    0   0 253 243  50   0   0   0   0   0]\\n [  0   0   0   0   0   0   0   0  38 165 253 233 208  84   0   0   0   0\\n    0   0 253 252 165   0   0   0   0   0]\\n [  0   0   0   0   0   0   0   7 178 252 240  71  19  28   0   0   0   0\\n    0   0 253 252 195   0   0   0   0   0]\\n [  0   0   0   0   0   0   0  57 252 252  63   0   0   0   0   0   0   0\\n    0   0 253 252 195   0   0   0   0   0]\\n [  0   0   0   0   0   0   0 198 253 190   0   0   0   0   0   0   0   0\\n    0   0 255 253 196   0   0   0   0   0]\\n [  0   0   0   0   0   0  76 246 252 112   0   0   0   0   0   0   0   0\\n    0   0 253 252 148   0   0   0   0   0]\\n [  0   0   0   0   0   0  85 252 230  25   0   0   0   0   0   0   0   0\\n    7 135 253 186  12   0   0   0   0   0]\\n [  0   0   0   0   0   0  85 252 223   0   0   0   0   0   0   0   0   7\\n  131 252 225  71   0   0   0   0   0   0]\\n [  0   0   0   0   0   0  85 252 145   0   0   0   0   0   0   0  48 165\\n  252 173   0   0   0   0   0   0   0   0]\\n [  0   0   0   0   0   0  86 253 225   0   0   0   0   0   0 114 238 253\\n  162   0   0   0   0   0   0   0   0   0]\\n [  0   0   0   0   0   0  85 252 249 146  48  29  85 178 225 253 223 167\\n   56   0   0   0   0   0   0   0   0   0]\\n [  0   0   0   0   0   0  85 252 252 252 229 215 252 252 252 196 130   0\\n    0   0   0   0   0   0   0   0   0   0]\\n [  0   0   0   0   0   0  28 199 252 252 253 252 252 233 145   0   0   0\\n    0   0   0   0   0   0   0   0   0   0]\\n [  0   0   0   0   0   0   0  25 128 252 253 252 141  37   0   0   0   0\\n    0   0   0   0   0   0   0   0   0   0]\\n [  0   0   0   0   0   0   0   0   0   0   0   0   0   0   0   0   0   0\\n    0   0   0   0   0   0   0   0   0   0]\\n [  0   0   0   0   0   0   0   0   0   0   0   0   0   0   0   0   0   0\\n    0   0   0   0   0   0   0   0   0   0]\\n [  0   0   0   0   0   0   0   0   0   0   0   0   0   0   0   0   0   0\\n    0   0   0   0   0   0   0   0   0   0]\\n [  0   0   0   0   0   0   0   0   0   0   0   0   0   0   0   0   0   0\\n    0   0   0   0   0   0   0   0   0   0]]',\n",
            "        '0'],\n",
            "       ...,\n",
            "       ['[[  0   0   0   0   0   0   0   0   0   0   0   0   0   0   0   0   0   0\\n    0   0   0   0   0   0   0   0   0   0]\\n [  0   0   0   0   0   0   0   0   0   0   0   0   0   0   0   0   0   0\\n    0   0   0   0   0   0   0   0   0   0]\\n [  0   0   0   0   0   0   0   0   0   0   0   0   0   0   0   0   0   0\\n    0   0   0   0   0   0   0   0   0   0]\\n [  0   0   0   0   0   0   0   0   0   0   0   0   0   0   0   0   0   0\\n    0   0   0   0   0   0   0   0   0   0]\\n [  0   0   0   0   0   0   0   0   0   0   0   0   0   0   0   0   0   0\\n    0   0   0   0   0   0   0   0   0   0]\\n [  0   0   0   0   0   0   0   0   0   0   0   0   0   0   0   0   0   0\\n    0  96 121 213 255 255 121   0   0   0]\\n [  0   0   0   0   0   0   0   0   0   0   0   0   0   0   0  52 108 157\\n  241 251 253 253 242 146  69   0   0   0]\\n [  0   0   0   0   0   0   0   0   0   0   0   0  10  94 164 241 253 253\\n  223 159 131  26  23   0   0   0   0   0]\\n [  0   0   0   0   0   0   0   0   0   0  60 102 218 253 253 216 117  39\\n   27   0   0   0   0   0   0   0   0   0]\\n [  0   0   0   0   0   0   0   0   0  54 205 253 253 253 147  28   0   0\\n    0   0   0   0   0   0   0   0   0   0]\\n [  0   0   0   0   0   0   0   0  60 240 253 253 253 243  31   0   0   0\\n    0   0   0   0   0   0   0   0   0   0]\\n [  0   0   0   0   0   0   0   0  26  80 208 253 253 147   0   0   0   0\\n    0   0   0   0   0   0   0   0   0   0]\\n [  0   0   0   0   0   0   0   0   0  36 222 253 253 121   0   0   0   0\\n    0   0   0   0   0   0   0   0   0   0]\\n [  0   0   0   0   0   0   0   0   0   0 177 242 253 248 147 148  91   2\\n    0   0   0   0   0   0   0   0   0   0]\\n [  0   0   0   0   0   0   0   0   0   0   0  19 120 197 253 254 253  97\\n    0   0   0   0   0   0   0   0   0   0]\\n [  0   0   0   0   0   0   0   0   0   0   0   0   0   0  72 192 254 254\\n   40   0   0   0   0   0   0   0   0   0]\\n [  0   0   0   0   0   0   0   0   0   0   0   0   0   0   0   6 242 253\\n   39   0   0   0   0   0   0   0   0   0]\\n [  0   0   0   0   0   0   0   0   0   0   0   0   0   0   0   0 121 253\\n  159   0   0   0   0   0   0   0   0   0]\\n [  0   0   0   0   0   0   0   0   0   0   0   0   0   0   0   0 108 253\\n  173   0   0   0   0   0   0   0   0   0]\\n [  0   0   0   0   0   0   0   0   0   0   0   0   0   0   0   0 108 253\\n  173   0   0   0   0   0   0   0   0   0]\\n [  0   0   0   0   0   0   0   0   0   0   0   0   0   0   0   0 108 253\\n   74   0   0   0   0   0   0   0   0   0]\\n [  0   0   0   0   0  22   0   0   0   0   0   0   0   0   0  20 201 253\\n   39   0   0   0   0   0   0   0   0   0]\\n [  0   0   0   0   0 196 161  41   5   0   0   0   3  27  98 206 253 194\\n   15   0   0   0   0   0   0   0   0   0]\\n [  0   0   0   0   0 115 240 252 163 147 147 147 158 253 253 255 184  67\\n    0   0   0   0   0   0   0   0   0   0]\\n [  0   0   0   0   0   0   0 157 253 253 253 253 253 253 253 121   6   0\\n    0   0   0   0   0   0   0   0   0   0]\\n [  0   0   0   0   0   0   0   0   0   0   0   0   0   0   0   0   0   0\\n    0   0   0   0   0   0   0   0   0   0]\\n [  0   0   0   0   0   0   0   0   0   0   0   0   0   0   0   0   0   0\\n    0   0   0   0   0   0   0   0   0   0]\\n [  0   0   0   0   0   0   0   0   0   0   0   0   0   0   0   0   0   0\\n    0   0   0   0   0   0   0   0   0   0]]',\n",
            "        '5'],\n",
            "       ['[[  0   0   0   0   0   0   0   0   0   0   0   0   0   0   0   0   0   0\\n    0   0   0   0   0   0   0   0   0   0]\\n [  0   0   0   0   0   0   0   0   0   0   0   0   0   0   0   0   0   0\\n    0   0   0   0   0   0   0   0   0   0]\\n [  0   0   0   0   0   0   0   0   0   0   0   0   0   0   0   0   0   0\\n   55 192 230  27   0   0   0   0   0   0]\\n [  0   0   0   0   0   0   0   0   0   0   0   0   0   0   0   0   0   8\\n  152 252 193  27   0   0   0   0   0   0]\\n [  0   0   0   0   0   0   0   0   0   0   0   0   0   0   0   0   8 129\\n  252 190   9   0   0   0   0   0   0   0]\\n [  0   0   0   0   0   0   0   0   0   0   0   0   0   0   0   0 155 252\\n  210  14   0   0   0   0   0   0   0   0]\\n [  0   0   0   0   0   0   0   0   0   0   0   0   0   0   0  62 216 199\\n   66   0   0   0   0   0   0   0   0   0]\\n [  0   0   0   0   0   0   0   0   0   0   0   0   0  11  43 254 222  62\\n    0   0   0   0   0   0   0   0   0   0]\\n [  0   0   0   0   0   0   0   0   0   0   0   0   0 143 252 222  16   0\\n    0   0   0   0   0   0   0   0   0   0]\\n [  0   0   0   0   0   0   0   0   0   0   0   0 169 246 208  17   0   0\\n    0   0   0   0   0   0   0   0   0   0]\\n [  0   0   0   0   0   0   0   0   0   0  11 143 246 236 101   0   0   0\\n    0   0   0   0   0   0   0   0   0   0]\\n [  0   0   0   0   0   0   0   0   0   0  69 226 199 111   0   0   0   0\\n    0   0   0   0   0   0   0   0   0   0]\\n [  0   0   0   0   0   0   0   0   0   0 254 253  21   0   0   0   0   0\\n    0   0   0   0   0   0   0   0   0   0]\\n [  0   0   0   0   0   0   0   0   0 124 253 110   5   0   0   0   0   0\\n   22 128 191 190 137  28   0   0   0   0]\\n [  0   0   0   0   0   0   0   0 112 241 170  32   0   0   0  31 127 180\\n  237 252 253 252 242  42   0   0   0   0]\\n [  0   0   0   0   0   0   0   6 190 226   0   0   0   0  27 218 252 194\\n  162  84  84 131 232  35   0   0   0   0]\\n [  0   0   0   0   0   0   0 110 252 147   0   0   0   0 194 253 217  56\\n    0   0  18 216 187   0   0   0   0   0]\\n [  0   0   0   0   0   0   0 233 216  18   0   0   0  27 194 150 106   9\\n    0 124 255 186   9   0   0   0   0   0]\\n [  0   0   0   0   0   0  64 247 110   0   0   0   0   0   0   0   0  87\\n  146 163  63  16   0   0   0   0   0   0]\\n [  0   0   0   0   0   0  14 236 128   0   0   0  11  22  66 128 206 231\\n  178  12   0   0   0   0   0   0   0   0]\\n [  0   0   0   0   0   0  28 239 196 169  82 169 211 252 252 128  84   7\\n    0   0   0   0   0   0   0   0   0   0]\\n [  0   0   0   0   0   0  36 241 252 252 253 217 138  42  42   0   0   0\\n    0   0   0   0   0   0   0   0   0   0]\\n [  0   0   0   0   0   0   0   0   0   0   0   0   0   0   0   0   0   0\\n    0   0   0   0   0   0   0   0   0   0]\\n [  0   0   0   0   0   0   0   0   0   0   0   0   0   0   0   0   0   0\\n    0   0   0   0   0   0   0   0   0   0]\\n [  0   0   0   0   0   0   0   0   0   0   0   0   0   0   0   0   0   0\\n    0   0   0   0   0   0   0   0   0   0]\\n [  0   0   0   0   0   0   0   0   0   0   0   0   0   0   0   0   0   0\\n    0   0   0   0   0   0   0   0   0   0]\\n [  0   0   0   0   0   0   0   0   0   0   0   0   0   0   0   0   0   0\\n    0   0   0   0   0   0   0   0   0   0]\\n [  0   0   0   0   0   0   0   0   0   0   0   0   0   0   0   0   0   0\\n    0   0   0   0   0   0   0   0   0   0]]',\n",
            "        '6'],\n",
            "       ['[[  0   0   0   0   0   0   0   0   0   0   0   0   0   0   0   0   0   0\\n    0   0   0   0   0   0   0   0   0   0]\\n [  0   0   0   0   0   0   0   0   0   0   0   0   0   0   0   0   0   0\\n    0   0   0   0   0   0   0   0   0   0]\\n [  0   0   0   0   0   0   0   0   0   0   0   0   0   0   0   0   0   0\\n    0   0   0   0   0   0   0   0   0   0]\\n [  0   0   0   0   0   0   0   0   0   0   0   0   0   0   0   0   0   0\\n    0   0   0   0   0   0   0   0   0   0]\\n [  0   0   0   0   0   0   0   0   0   0   0   0   0   0   0   0   0   0\\n    0   0   0   0   0   0   0   0   0   0]\\n [  0   0   0   0   0   0   0   0   0   0   0   0   0   0   0   0   0   0\\n    0   0   0   0   0   0   0   0   0   0]\\n [  0   0   0   0   0   0   0   0   0   0   0   0   0   0   0   0  38  48\\n   48  22   0   0   0   0   0   0   0   0]\\n [  0   0   0   0   0   0   0   0   0   0   0   0   0  62  97 198 243 254\\n  254 212  27   0   0   0   0   0   0   0]\\n [  0   0   0   0   0   0   0   0   0   0   0   0  67 172 254 254 225 218\\n  218 237 248  40   0  21 164 187   0   0]\\n [  0   0   0   0   0   0   0   0   0   0   0  89 219 254  97  67  14   0\\n    0  92 231 122  23 203 236  59   0   0]\\n [  0   0   0   0   0   0   0   0   0   0  25 217 242  92   4   0   0   0\\n    0   4 147 253 240 232  92   0   0   0]\\n [  0   0   0   0   0   0   0   0   0   0 101 255  92   0   0   0   0   0\\n    0 105 254 254 177  11   0   0   0   0]\\n [  0   0   0   0   0   0   0   0   0   0 167 244  41   0   0   0   7  76\\n  199 238 239  94  10   0   0   0   0   0]\\n [  0   0   0   0   0   0   0   0   0   0 192 121   0   0   2  63 180 254\\n  233 126   0   0   0   0   0   0   0   0]\\n [  0   0   0   0   0   0   0   0   0   0 190 196  14   2  97 254 252 146\\n   52   0   0   0   0   0   0   0   0   0]\\n [  0   0   0   0   0   0   0   0   0   0 130 225  71 180 232 181  60   0\\n    0   0   0   0   0   0   0   0   0   0]\\n [  0   0   0   0   0   0   0   0   0   0 130 254 254 230  46   0   0   0\\n    0   0   0   0   0   0   0   0   0   0]\\n [  0   0   0   0   0   0   0   0   6  77 244 254 162   4   0   0   0   0\\n    0   0   0   0   0   0   0   0   0   0]\\n [  0   0   0   0   0   0   0   0 110 254 218 254 116   0   0   0   0   0\\n    0   0   0   0   0   0   0   0   0   0]\\n [  0   0   0   0   0   0   0 131 254 154  28 213  86   0   0   0   0   0\\n    0   0   0   0   0   0   0   0   0   0]\\n [  0   0   0   0   0   0  66 209 153  19  19 233  60   0   0   0   0   0\\n    0   0   0   0   0   0   0   0   0   0]\\n [  0   0   0   0   0   0 142 254 165   0  14 216 167   0   0   0   0   0\\n    0   0   0   0   0   0   0   0   0   0]\\n [  0   0   0   0   0   0  90 254 175   0  18 229  92   0   0   0   0   0\\n    0   0   0   0   0   0   0   0   0   0]\\n [  0   0   0   0   0   0  26 229 249 176 222 244  44   0   0   0   0   0\\n    0   0   0   0   0   0   0   0   0   0]\\n [  0   0   0   0   0   0   0  73 193 197 134   0   0   0   0   0   0   0\\n    0   0   0   0   0   0   0   0   0   0]\\n [  0   0   0   0   0   0   0   0   0   0   0   0   0   0   0   0   0   0\\n    0   0   0   0   0   0   0   0   0   0]\\n [  0   0   0   0   0   0   0   0   0   0   0   0   0   0   0   0   0   0\\n    0   0   0   0   0   0   0   0   0   0]\\n [  0   0   0   0   0   0   0   0   0   0   0   0   0   0   0   0   0   0\\n    0   0   0   0   0   0   0   0   0   0]]',\n",
            "        '8']], dtype='<U3276'), array([['image', 'label'],\n",
            "       ['[[  0   0   0   0   0   0   0   0   0   0   0   0   0   0   0   0   0   0\\n    0   0   0   0   0   0   0   0   0   0]\\n [  0   0   0   0   0   0   0   0   0   0   0   0   0   0   0   0   0   0\\n    0   0   0   0   0   0   0   0   0   0]\\n [  0   0   0   0   0   0   0   0   0   0   0   0   0   0   0   0   0   0\\n    0   0   0   0   0   0   0   0   0   0]\\n [  0   0   0   0   0   0   0   0   0   0   0   0   0   0   0   0   0   0\\n    0   0   0   0   0   0   0   0   0   0]\\n [  0   0   0   0   0   0   0   0   0   0   0   0   0   0   0   0   0   0\\n    0   0   0   0   0   0   0   0   0   0]\\n [  0   0   0   0   0   0   0   0   0   0   0   0   0   0   0   0   0   0\\n    0   0   0   0   0   0   0   0   0   0]\\n [  0   0   0   0   0   0   0   0   0   0   0   0   0   0   0   0   0   0\\n    0   0   0   0   0   0   0   0   0   0]\\n [  0   0   0   0   0   0  84 185 159 151  60  36   0   0   0   0   0   0\\n    0   0   0   0   0   0   0   0   0   0]\\n [  0   0   0   0   0   0 222 254 254 254 254 241 198 198 198 198 198 198\\n  198 198 170  52   0   0   0   0   0   0]\\n [  0   0   0   0   0   0  67 114  72 114 163 227 254 225 254 254 254 250\\n  229 254 254 140   0   0   0   0   0   0]\\n [  0   0   0   0   0   0   0   0   0   0   0  17  66  14  67  67  67  59\\n   21 236 254 106   0   0   0   0   0   0]\\n [  0   0   0   0   0   0   0   0   0   0   0   0   0   0   0   0   0   0\\n   83 253 209  18   0   0   0   0   0   0]\\n [  0   0   0   0   0   0   0   0   0   0   0   0   0   0   0   0   0  22\\n  233 255  83   0   0   0   0   0   0   0]\\n [  0   0   0   0   0   0   0   0   0   0   0   0   0   0   0   0   0 129\\n  254 238  44   0   0   0   0   0   0   0]\\n [  0   0   0   0   0   0   0   0   0   0   0   0   0   0   0   0  59 249\\n  254  62   0   0   0   0   0   0   0   0]\\n [  0   0   0   0   0   0   0   0   0   0   0   0   0   0   0   0 133 254\\n  187   5   0   0   0   0   0   0   0   0]\\n [  0   0   0   0   0   0   0   0   0   0   0   0   0   0   0   9 205 248\\n   58   0   0   0   0   0   0   0   0   0]\\n [  0   0   0   0   0   0   0   0   0   0   0   0   0   0   0 126 254 182\\n    0   0   0   0   0   0   0   0   0   0]\\n [  0   0   0   0   0   0   0   0   0   0   0   0   0   0  75 251 240  57\\n    0   0   0   0   0   0   0   0   0   0]\\n [  0   0   0   0   0   0   0   0   0   0   0   0   0  19 221 254 166   0\\n    0   0   0   0   0   0   0   0   0   0]\\n [  0   0   0   0   0   0   0   0   0   0   0   0   3 203 254 219  35   0\\n    0   0   0   0   0   0   0   0   0   0]\\n [  0   0   0   0   0   0   0   0   0   0   0   0  38 254 254  77   0   0\\n    0   0   0   0   0   0   0   0   0   0]\\n [  0   0   0   0   0   0   0   0   0   0   0  31 224 254 115   1   0   0\\n    0   0   0   0   0   0   0   0   0   0]\\n [  0   0   0   0   0   0   0   0   0   0   0 133 254 254  52   0   0   0\\n    0   0   0   0   0   0   0   0   0   0]\\n [  0   0   0   0   0   0   0   0   0   0  61 242 254 254  52   0   0   0\\n    0   0   0   0   0   0   0   0   0   0]\\n [  0   0   0   0   0   0   0   0   0   0 121 254 254 219  40   0   0   0\\n    0   0   0   0   0   0   0   0   0   0]\\n [  0   0   0   0   0   0   0   0   0   0 121 254 207  18   0   0   0   0\\n    0   0   0   0   0   0   0   0   0   0]\\n [  0   0   0   0   0   0   0   0   0   0   0   0   0   0   0   0   0   0\\n    0   0   0   0   0   0   0   0   0   0]]',\n",
            "        '7'],\n",
            "       ['[[  0   0   0   0   0   0   0   0   0   0   0   0   0   0   0   0   0   0\\n    0   0   0   0   0   0   0   0   0   0]\\n [  0   0   0   0   0   0   0   0   0   0   0   0   0   0   0   0   0   0\\n    0   0   0   0   0   0   0   0   0   0]\\n [  0   0   0   0   0   0   0   0   0   0   0   0   0   0   0   0   0   0\\n    0   0   0   0   0   0   0   0   0   0]\\n [  0   0   0   0   0   0   0   0   0   0 116 125 171 255 255 150  93   0\\n    0   0   0   0   0   0   0   0   0   0]\\n [  0   0   0   0   0   0   0   0   0 169 253 253 253 253 253 253 218  30\\n    0   0   0   0   0   0   0   0   0   0]\\n [  0   0   0   0   0   0   0   0 169 253 253 253 213 142 176 253 253 122\\n    0   0   0   0   0   0   0   0   0   0]\\n [  0   0   0   0   0   0   0  52 250 253 210  32  12   0   6 206 253 140\\n    0   0   0   0   0   0   0   0   0   0]\\n [  0   0   0   0   0   0   0  77 251 210  25   0   0   0 122 248 253  65\\n    0   0   0   0   0   0   0   0   0   0]\\n [  0   0   0   0   0   0   0   0  31  18   0   0   0   0 209 253 253  65\\n    0   0   0   0   0   0   0   0   0   0]\\n [  0   0   0   0   0   0   0   0   0   0   0   0   0 117 247 253 198  10\\n    0   0   0   0   0   0   0   0   0   0]\\n [  0   0   0   0   0   0   0   0   0   0   0   0  76 247 253 231  63   0\\n    0   0   0   0   0   0   0   0   0   0]\\n [  0   0   0   0   0   0   0   0   0   0   0   0 128 253 253 144   0   0\\n    0   0   0   0   0   0   0   0   0   0]\\n [  0   0   0   0   0   0   0   0   0   0   0 176 246 253 159  12   0   0\\n    0   0   0   0   0   0   0   0   0   0]\\n [  0   0   0   0   0   0   0   0   0   0  25 234 253 233  35   0   0   0\\n    0   0   0   0   0   0   0   0   0   0]\\n [  0   0   0   0   0   0   0   0   0   0 198 253 253 141   0   0   0   0\\n    0   0   0   0   0   0   0   0   0   0]\\n [  0   0   0   0   0   0   0   0   0  78 248 253 189  12   0   0   0   0\\n    0   0   0   0   0   0   0   0   0   0]\\n [  0   0   0   0   0   0   0   0  19 200 253 253 141   0   0   0   0   0\\n    0   0   0   0   0   0   0   0   0   0]\\n [  0   0   0   0   0   0   0   0 134 253 253 173  12   0   0   0   0   0\\n    0   0   0   0   0   0   0   0   0   0]\\n [  0   0   0   0   0   0   0   0 248 253 253  25   0   0   0   0   0   0\\n    0   0   0   0   0   0   0   0   0   0]\\n [  0   0   0   0   0   0   0   0 248 253 253  43  20  20  20  20   5   0\\n    5  20  20  37 150 150 150 147  10   0]\\n [  0   0   0   0   0   0   0   0 248 253 253 253 253 253 253 253 168 143\\n  166 253 253 253 253 253 253 253 123   0]\\n [  0   0   0   0   0   0   0   0 174 253 253 253 253 253 253 253 253 253\\n  253 253 249 247 247 169 117 117  57   0]\\n [  0   0   0   0   0   0   0   0   0 118 123 123 123 166 253 253 253 155\\n  123 123  41   0   0   0   0   0   0   0]\\n [  0   0   0   0   0   0   0   0   0   0   0   0   0   0   0   0   0   0\\n    0   0   0   0   0   0   0   0   0   0]\\n [  0   0   0   0   0   0   0   0   0   0   0   0   0   0   0   0   0   0\\n    0   0   0   0   0   0   0   0   0   0]\\n [  0   0   0   0   0   0   0   0   0   0   0   0   0   0   0   0   0   0\\n    0   0   0   0   0   0   0   0   0   0]\\n [  0   0   0   0   0   0   0   0   0   0   0   0   0   0   0   0   0   0\\n    0   0   0   0   0   0   0   0   0   0]\\n [  0   0   0   0   0   0   0   0   0   0   0   0   0   0   0   0   0   0\\n    0   0   0   0   0   0   0   0   0   0]]',\n",
            "        '2'],\n",
            "       ...,\n",
            "       ['[[  0   0   0   0   0   0   0   0   0   0   0   0   0   0   0   0   0   0\\n    0   0   0   0   0   0   0   0   0   0]\\n [  0   0   0   0   0   0   0   0   0   0   0   0   0   0   0   0   0   0\\n    0   0   0   0   0   0   0   0   0   0]\\n [  0   0   0   0   0   0   0   0   0   0   0   0   0   0   0   0   0   0\\n    0   0   0   0   0   0   0   0   0   0]\\n [  0   0   0   0   0   0   0   0   0   0   0   0   0   0   0   0   0   0\\n    0   0   0   0   0   0   0   0   0   0]\\n [  0   0   0   0   0   0   0   0   0   0   0   0   0   0   0   0   0   0\\n    0   0   0   0   0   0   0   0   0   0]\\n [  0   0   0   0   0   0   0   0   0   0   0   0   0   0   0   0   0   0\\n    0   0   0   0   0   0   0   0   0   0]\\n [  0   0   0   0   0   0   0   0   0   0   0  23 217 228  35   0   0   0\\n    0 113 241 146   0   0   0   0   0   0]\\n [  0   0   0   0   0   0   0   0   0   0   2 116 254 218  32   0   0   0\\n   54 238 254  24   0   0   0   0   0   0]\\n [  0   0   0   0   0   0   0   0   0   0 108 254 254  74   0   0   0  46\\n  236 254 198  11   0   0   0   0   0   0]\\n [  0   0   0   0   0   0   0   0   0  31 216 254 250  67   0   0   0 154\\n  254 254 142   0   0   0   0   0   0   0]\\n [  0   0   0   0   0   0   0   0   4 168 254 254 189   0   0   0  62 236\\n  254 254  30   0   0   0   0   0   0   0]\\n [  0   0   0   0   0   0   0   0  25 254 254 248  69   0   0  11 208 254\\n  254 176  11   0   0   0   0   0   0   0]\\n [  0   0   0   0   0   0   0   0  47 254 254 211   0   0  11 101 254 254\\n  254  37   0   0   0   0   0   0   0   0]\\n [  0   0   0   0   0   0   0   0 149 254 254 241 174 174 194 254 254 254\\n  254  80   6   0   0   0   0   0   0   0]\\n [  0   0   0   0   0   0   0   0 123 254 254 254 254 254 254 254 254 254\\n  254 254  30   0   0   0   0   0   0   0]\\n [  0   0   0   0   0   0   0   0  19 230 254 254 254 254 254 254 254 254\\n  254 254  30   0   0   0   0   0   0   0]\\n [  0   0   0   0   0   0   0   0   0  38  80 186 199 254 254 254 254 199\\n  186  80   8   0   0   0   0   0   0   0]\\n [  0   0   0   0   0   0   0   0   0   0   0   0  50 254 254 254 196  11\\n    0   0   0   0   0   0   0   0   0   0]\\n [  0   0   0   0   0   0   0   0   0   0   0  14 176 254 254 254  79   0\\n    0   0   0   0   0   0   0   0   0   0]\\n [  0   0   0   0   0   0   0   0   0   0   0  44 254 254 254 197  10   0\\n    0   0   0   0   0   0   0   0   0   0]\\n [  0   0   0   0   0   0   0   0   0   0  14 182 254 254 254  80   0   0\\n    0   0   0   0   0   0   0   0   0   0]\\n [  0   0   0   0   0   0   0   0   0   0  38 254 254 254 199   8   0   0\\n    0   0   0   0   0   0   0   0   0   0]\\n [  0   0   0   0   0   0   0   0   0   0 150 254 254 254 140   0   0   0\\n    0   0   0   0   0   0   0   0   0   0]\\n [  0   0   0   0   0   0   0   0   0   0 162 254 254 230  38   0   0   0\\n    0   0   0   0   0   0   0   0   0   0]\\n [  0   0   0   0   0   0   0   0   0   0 162 254 254 140   0   0   0   0\\n    0   0   0   0   0   0   0   0   0   0]\\n [  0   0   0   0   0   0   0   0   0   0 102 255 230  38   0   0   0   0\\n    0   0   0   0   0   0   0   0   0   0]\\n [  0   0   0   0   0   0   0   0   0   0   0   0   0   0   0   0   0   0\\n    0   0   0   0   0   0   0   0   0   0]\\n [  0   0   0   0   0   0   0   0   0   0   0   0   0   0   0   0   0   0\\n    0   0   0   0   0   0   0   0   0   0]]',\n",
            "        '4'],\n",
            "       ['[[  0   0   0   0   0   0   0   0   0   0   0   0   0   0   0   0   0   0\\n    0   0   0   0   0   0   0   0   0   0]\\n [  0   0   0   0   0   0   0   0   0   0   0   0   0   0   0   0   0   0\\n    0   0   0   0   0   0   0   0   0   0]\\n [  0   0   0   0   0   0   0   0   0   0   0   0   0   0   0   0   0   0\\n    0   0   0   0   0   0   0   0   0   0]\\n [  0   0   0   0   0   0   0   0   0   0   0   0   0   0   0   0   0   0\\n    0   0   0   0   0   0   0   0   0   0]\\n [  0   0   0   0   0   0   0   0   0   0   0   0   0   0   0   0   0   0\\n    0   0   0   0   0   0   0   0   0   0]\\n [  0   0   0   0   0   0   0   0   0   0   0   0   0   0   0   0   0   0\\n    0   0   0   0   0   0   0   0   0   0]\\n [  0   0   0   0   0   0   0   0   0   0   0   0   0   0   0   0   0   0\\n    0   0   0   0   0   0   0   0   0   0]\\n [  0   0   0   0   0   0   0   0   0   0   0   0   0   0   0   0   0   0\\n    0   0   0   0   0   0   0   0   0   0]\\n [  0   0   0   0   0   0   0   0   0   0   0   0   8  10  78   0   0   0\\n    0   0   0   0  15 104 104 104  69   0]\\n [  0   0   0   0   0   0   0   0   0   0   0 123 238 254 235 159  76 111\\n   76 115 169 169 238 254 254 254 254   0]\\n [  0   0   0   0   0   0   0   0   0   0  71 252 254 254 254 254 254 254\\n  254 254 254 254 254 254 254 248 102   0]\\n [  0   0   0   0   0   0   0   0   0   0  83 254 254 254 254 254 247 236\\n  221 179 235 182 140 110  47  42   0   0]\\n [  0   0   0   0   0   0   0   0   0  39 229 254 254 194 169 124  47   0\\n    0   0   0   0   0   0   0   0   0   0]\\n [  0   0   0   0   0   0   0   0   0  83 254 254 254 248 133  51   0   0\\n    0   0   0   0   0   0   0   0   0   0]\\n [  0   0   0   0   0   0   0   0   0   5 213 254 254 254 254 249  91   0\\n    0   0   0   0   0   0   0   0   0   0]\\n [  0   0   0   0   0   0   0   0   0   0  44 152 201 254 254 254 135   0\\n    0   0   0   0   0   0   0   0   0   0]\\n [  0   0   0   0   0   0   0  25 237 106   0   0   0  32 200 254 255  50\\n    0   0   0   0   0   0   0   0   0   0]\\n [  0   0   0   0   0   0   0 123 251 181   0   0   0  13 156 254 254 126\\n    0   0   0   0   0   0   0   0   0   0]\\n [  0   0   0   0   0   0   0 254 254  56   0   0   0  85 254 254 254   0\\n    0   0   0   0   0   0   0   0   0   0]\\n [  0   0   0   0   0   0   0 198 254 149  54   0   0  60 251 254 254  29\\n    0   0   0   0   0   0   0   0   0   0]\\n [  0   0   0   0   0   0   0  89 248 254 220 107 148 236 253 248 171   7\\n    0   0   0   0   0   0   0   0   0   0]\\n [  0   0   0   0   0   0   0   0 139 249 254 254 254 254 249 173   0   0\\n    0   0   0   0   0   0   0   0   0   0]\\n [  0   0   0   0   0   0   0   0   0  97 194 254 254 254 134   0   0   0\\n    0   0   0   0   0   0   0   0   0   0]\\n [  0   0   0   0   0   0   0   0   0   0   3  97 103  37   1   0   0   0\\n    0   0   0   0   0   0   0   0   0   0]\\n [  0   0   0   0   0   0   0   0   0   0   0   0   0   0   0   0   0   0\\n    0   0   0   0   0   0   0   0   0   0]\\n [  0   0   0   0   0   0   0   0   0   0   0   0   0   0   0   0   0   0\\n    0   0   0   0   0   0   0   0   0   0]\\n [  0   0   0   0   0   0   0   0   0   0   0   0   0   0   0   0   0   0\\n    0   0   0   0   0   0   0   0   0   0]\\n [  0   0   0   0   0   0   0   0   0   0   0   0   0   0   0   0   0   0\\n    0   0   0   0   0   0   0   0   0   0]]',\n",
            "        '5'],\n",
            "       ['[[  0   0   0   0   0   0   0   0   0   0   0   0   0   0   0   0   0   0\\n    0   0   0   0   0   0   0   0   0   0]\\n [  0   0   0   0   0   0   0   0   0   0   0   0   0   0   0   0   0   0\\n    0   0   0   0   0   0   0   0   0   0]\\n [  0   0   0   0   0   0   0   0   0   0   0   0   0   0   0   0   0   8\\n  117 254 220  89   0   0   0   0   0   0]\\n [  0   0   0   0   0   0   0   0   0   0   0   0   0   0   0  13  95 212\\n  253 253 253 157   0   0   0   0   0   0]\\n [  0   0   0   0   0   0   0   0   0   0   0   0   0  16  95 209 253 253\\n  253 245 125  18   0   0   0   0   0   0]\\n [  0   0   0   0   0   0   0   0   0   0   0  40  96 206 253 254 253 253\\n  198  64   0   0   0   0   0   0   0   0]\\n [  0   0   0   0   0   0   0   0   0  44 182 240 253 253 253 254 253 198\\n   24   0   0   0   0   0   0   0   0   0]\\n [  0   0   0   0   0   0   0   0   0  15  60  60 168 253 253 254 200  23\\n    0   0   0   0   0   0   0   0   0   0]\\n [  0   0   0   0   0   0   0   0   0   0   0  70 247 253 253 245  21   0\\n    0   0   0   0   0   0   0   0   0   0]\\n [  0   0   0   0   0   0   0   0   0   0  75 207 253 253 207  92   0   0\\n    0   0   0   0   0   0   0   0   0   0]\\n [  0   0   0   0   0   0   0   0   0  79 219 253 253 253 138   0   0   0\\n    0   0   0   0   0   0   0   0   0   0]\\n [  0   0   0   0   0   0   0   0 105 250 253 253 253  34   1   0   0   0\\n    0   0   0   0   0   0   0   0   0   0]\\n [  0   0   0   0   0   0   0  95 254 254 254 254  94   0   0   0   0   0\\n    3  13  13  13   8   0   0   0   0   0]\\n [  0   0   0   0   0   0   0 107 253 253 253 204  15   0   0   0   0  21\\n  166 253 253 253 212  25   0   0   0   0]\\n [  0   0   0   0   0   0  33 217 253 253 132  64   0   0  18  43 157 171\\n  253 253 253 253 253 160   2   0   0   0]\\n [  0   0   0   0   0   3 166 253 253 242  49  17  49 158 210 254 253 253\\n  253 253 253 253 253 253  11   0   0   0]\\n [  0   0   0   0   0  10 227 253 253 207  15 172 253 253 253 254 247 201\\n  253 210 210 253 253 175   4   0   0   0]\\n [  0   0   0   0   0  10 228 253 253 224  87 242 253 253 184  60  54   9\\n   60  35 182 253 253  52   0   0   0   0]\\n [  0   0   0   0   0  13 253 253 253 253 231 253 253 253  93  86  86  86\\n  109 217 253 253 134   5   0   0   0   0]\\n [  0   0   0   0   0   2 115 253 253 253 253 253 253 253 253 254 253 253\\n  253 253 253 134   5   0   0   0   0   0]\\n [  0   0   0   0   0   0   3 166 253 253 253 253 253 253 253 254 253 253\\n  253 175  52   5   0   0   0   0   0   0]\\n [  0   0   0   0   0   0   0   7  35 132 225 253 253 253 195 132 132 132\\n  110   4   0   0   0   0   0   0   0   0]\\n [  0   0   0   0   0   0   0   0   0   0   0   0   0   0   0   0   0   0\\n    0   0   0   0   0   0   0   0   0   0]\\n [  0   0   0   0   0   0   0   0   0   0   0   0   0   0   0   0   0   0\\n    0   0   0   0   0   0   0   0   0   0]\\n [  0   0   0   0   0   0   0   0   0   0   0   0   0   0   0   0   0   0\\n    0   0   0   0   0   0   0   0   0   0]\\n [  0   0   0   0   0   0   0   0   0   0   0   0   0   0   0   0   0   0\\n    0   0   0   0   0   0   0   0   0   0]\\n [  0   0   0   0   0   0   0   0   0   0   0   0   0   0   0   0   0   0\\n    0   0   0   0   0   0   0   0   0   0]\\n [  0   0   0   0   0   0   0   0   0   0   0   0   0   0   0   0   0   0\\n    0   0   0   0   0   0   0   0   0   0]]',\n",
            "        '6']], dtype='<U3276'))\n"
          ]
        }
      ]
    }
  ]
}